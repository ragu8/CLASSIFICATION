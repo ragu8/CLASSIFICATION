{
 "cells": [
  {
   "cell_type": "code",
   "execution_count": 9,
   "id": "222de16d",
   "metadata": {},
   "outputs": [
    {
     "ename": "SyntaxError",
     "evalue": "invalid syntax (2444808620.py, line 1)",
     "output_type": "error",
     "traceback": [
      "\u001b[0;36m  File \u001b[0;32m\"/tmp/ipykernel_6521/2444808620.py\"\u001b[0;36m, line \u001b[0;32m1\u001b[0m\n\u001b[0;31m    avrage = [-]\u001b[0m\n\u001b[0m               ^\u001b[0m\n\u001b[0;31mSyntaxError\u001b[0m\u001b[0;31m:\u001b[0m invalid syntax\n"
     ]
    }
   ],
   "source": [
    "avrage = "
   ]
  },
  {
   "cell_type": "code",
   "execution_count": 7,
   "id": "797325ad",
   "metadata": {},
   "outputs": [
    {
     "data": {
      "text/plain": [
       "{'\\u200e': ' ', ' ': ' ', '3': 4}"
      ]
     },
     "execution_count": 7,
     "metadata": {},
     "output_type": "execute_result"
    }
   ],
   "source": [
    " i = len(TP)+3\n",
    "    #measures.loc[i] = [5, 6,5]\n",
    "\n",
    "    average = pd.DataFrame()\n",
    "    average['class_name'] = [\"Average\"]\n",
    "    average['TP'] =  np.round(np.average(TP))\n",
    "    average['FP'] = np.average(FP)\n",
    "    average['TN'] = np.average(TN)\n",
    "    average['FN'] = np.average(FN)\n",
    "    average['Accuracy'] = np.average(Accuracy)\n",
    "    average['Precision'] = np.average(Precision)\n",
    "    average['Recall'] = np.average(Recall)\n",
    "    average['F_measure'] = np.average(F_measure)\n",
    "    average['Error_rate'] = np.average(Error_rate)\n",
    "    average['Specificity'] = np.average(Specificity)\n",
    "    average['FNR'] = np.average(FNR)\n",
    "    average['FPR'] = np.average(FPR)\n",
    "    \n",
    "    #measuresq = measures.append(average, ignore_index = True)\n",
    "\n"
   ]
  },
  {
   "cell_type": "code",
   "execution_count": 10,
   "id": "0c7c1a23",
   "metadata": {},
   "outputs": [
    {
     "ename": "IndentationError",
     "evalue": "unexpected indent (1002671232.py, line 2)",
     "output_type": "error",
     "traceback": [
      "\u001b[0;36m  File \u001b[0;32m\"/tmp/ipykernel_6521/1002671232.py\"\u001b[0;36m, line \u001b[0;32m2\u001b[0m\n\u001b[0;31m    dict1['Precision'] = np.average(Precision)\u001b[0m\n\u001b[0m    ^\u001b[0m\n\u001b[0;31mIndentationError\u001b[0m\u001b[0;31m:\u001b[0m unexpected indent\n"
     ]
    }
   ],
   "source": [
    "dict1['Accuracy'] = np.average(Accuracy)\n",
    "    dict1['Precision'] = np.average(Precision)\n",
    "    dict1['Recall'] = np.average(Recall)\n",
    "    dict1['F_measure'] = np.average(F_measure)\n",
    "    dict1['Error_rate'] = np.average(Error_rate)\n",
    "    dict1['Specificity'] = np.average(Specificity)\n",
    "    dict1['FNR'] = np.average(FNR)\n",
    "    dict1['FPR'] = np.average(FPR)"
   ]
  },
  {
   "cell_type": "code",
   "execution_count": null,
   "id": "005d33a7",
   "metadata": {},
   "outputs": [],
   "source": [
    " \n",
    "   ''' '''"
   ]
  }
 ],
 "metadata": {
  "kernelspec": {
   "display_name": "Python 3 (ipykernel)",
   "language": "python",
   "name": "python3"
  },
  "language_info": {
   "codemirror_mode": {
    "name": "ipython",
    "version": 3
   },
   "file_extension": ".py",
   "mimetype": "text/x-python",
   "name": "python",
   "nbconvert_exporter": "python",
   "pygments_lexer": "ipython3",
   "version": "3.9.7"
  }
 },
 "nbformat": 4,
 "nbformat_minor": 5
}
