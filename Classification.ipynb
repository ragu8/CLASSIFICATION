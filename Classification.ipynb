{
 "cells": [
  {
   "cell_type": "code",
   "execution_count": 1,
   "id": "af9ae198",
   "metadata": {
    "id": "af9ae198"
   },
   "outputs": [
    {
     "name": "stderr",
     "output_type": "stream",
     "text": [
      "2022-12-20 16:11:39.170129: I tensorflow/core/platform/cpu_feature_guard.cc:193] This TensorFlow binary is optimized with oneAPI Deep Neural Network Library (oneDNN) to use the following CPU instructions in performance-critical operations:  AVX2 FMA\n",
      "To enable them in other operations, rebuild TensorFlow with the appropriate compiler flags.\n",
      "2022-12-20 16:11:39.515291: W tensorflow/compiler/xla/stream_executor/platform/default/dso_loader.cc:64] Could not load dynamic library 'libcudart.so.11.0'; dlerror: libcudart.so.11.0: cannot open shared object file: No such file or directory; LD_LIBRARY_PATH: /home/ragu/anaconda3/lib/python3.7/site-packages/cv2/../../lib64:\n",
      "2022-12-20 16:11:39.515315: I tensorflow/compiler/xla/stream_executor/cuda/cudart_stub.cc:29] Ignore above cudart dlerror if you do not have a GPU set up on your machine.\n",
      "2022-12-20 16:11:40.697632: W tensorflow/compiler/xla/stream_executor/platform/default/dso_loader.cc:64] Could not load dynamic library 'libnvinfer.so.7'; dlerror: libnvinfer.so.7: cannot open shared object file: No such file or directory; LD_LIBRARY_PATH: /home/ragu/anaconda3/lib/python3.7/site-packages/cv2/../../lib64:\n",
      "2022-12-20 16:11:40.697794: W tensorflow/compiler/xla/stream_executor/platform/default/dso_loader.cc:64] Could not load dynamic library 'libnvinfer_plugin.so.7'; dlerror: libnvinfer_plugin.so.7: cannot open shared object file: No such file or directory; LD_LIBRARY_PATH: /home/ragu/anaconda3/lib/python3.7/site-packages/cv2/../../lib64:\n",
      "2022-12-20 16:11:40.697806: W tensorflow/compiler/tf2tensorrt/utils/py_utils.cc:38] TF-TRT Warning: Cannot dlopen some TensorRT libraries. If you would like to use Nvidia GPU with TensorRT, please make sure the missing libraries mentioned above are installed properly.\n"
     ]
    }
   ],
   "source": [
    "import os          \n",
    "import cv2\n",
    "import netron\n",
    "import numpy as np\n",
    "import pandas as pd\n",
    "import seaborn as sns\n",
    "from tqdm import tqdm\n",
    "import tensorflow as tf\n",
    "from matplotlib import pyplot\n",
    "from datetime import datetime      \n",
    "import matplotlib.pyplot as plt \n",
    "from ann_visualizer.visualize import ann_viz\n",
    "from sklearn.metrics import confusion_matrix\n",
    "import sklearn.model_selection as model_selection\n",
    "\n",
    "%load_ext tensorboard\n",
    "logdir=\"logs/fit/\" + datetime.now().strftime(\"%Y%m%d-%H%M%S\")\n",
    "tensorboard_callback = tf.keras.callbacks.TensorBoard(log_dir=logdir)\n"
   ]
  },
  {
   "cell_type": "code",
   "execution_count": 2,
   "id": "5a494a18",
   "metadata": {
    "id": "5a494a18"
   },
   "outputs": [],
   "source": [
    "def load_data(dataset):\n",
    "    class_names = []\n",
    "    images = []\n",
    "    labels = []  \n",
    "    for folder in os.listdir(dataset):\n",
    "        class_names.append(folder)    \n",
    "    class_names_label = {class_name:i for i, class_name in enumerate(class_names)} \n",
    "    print(\"Loading Dataset {}\".format(dataset))\n",
    "    for folder in os.listdir(dataset):\n",
    "        label = class_names_label[folder]\n",
    "        for file in tqdm(os.listdir(os.path.join(dataset, folder))):\n",
    "            img_path = os.path.join(os.path.join(dataset, folder), file)\n",
    "            image = cv2.imread(img_path)\n",
    "            image = cv2.cvtColor(image, cv2.COLOR_BGR2RGB)\n",
    "            IMAGE_SIZE = (150, 150)\n",
    "            image = cv2.resize(image, IMAGE_SIZE)\n",
    "            images.append(image)\n",
    "            labels.append(label)\n",
    "    return images, labels , class_names"
   ]
  },
  {
   "cell_type": "code",
   "execution_count": 3,
   "id": "05c672c1",
   "metadata": {},
   "outputs": [
    {
     "name": "stdout",
     "output_type": "stream",
     "text": [
      "Loading Dataset /home/ragu/DATASETS/TEMP/\n"
     ]
    },
    {
     "name": "stderr",
     "output_type": "stream",
     "text": [
      "100%|█████████████████████████████████████████████| 9/9 [00:00<00:00, 32.69it/s]\n",
      "100%|█████████████████████████████████████████████| 9/9 [00:00<00:00, 32.57it/s]\n",
      "100%|█████████████████████████████████████████████| 9/9 [00:00<00:00, 32.37it/s]\n",
      "100%|█████████████████████████████████████████████| 9/9 [00:00<00:00, 29.97it/s]\n"
     ]
    }
   ],
   "source": [
    "dataset = '/home/ragu/DATASETS/TEMP/'\n",
    "images, labels, class_names = load_data(dataset)"
   ]
  },
  {
   "cell_type": "code",
   "execution_count": 4,
   "id": "658435ff",
   "metadata": {},
   "outputs": [],
   "source": [
    "images = np.array(images, dtype = 'float32')\n",
    "labels = np.array(labels, dtype = 'int32') "
   ]
  },
  {
   "cell_type": "code",
   "execution_count": 5,
   "id": "d9030843",
   "metadata": {},
   "outputs": [],
   "source": [
    "images = images/255.0"
   ]
  },
  {
   "cell_type": "code",
   "execution_count": 6,
   "id": "8eb0fe3c",
   "metadata": {
    "id": "8eb0fe3c"
   },
   "outputs": [],
   "source": [
    "train_images, test_images, train_labels, test_labels = model_selection.train_test_split(images, labels, train_size=0.80,test_size=0.20, random_state=101) "
   ]
  },
  {
   "cell_type": "code",
   "execution_count": 7,
   "id": "d79291a4",
   "metadata": {
    "id": "d79291a4",
    "outputId": "e35a7c47-4bbc-490e-e3a6-b35365bb80ec"
   },
   "outputs": [
    {
     "name": "stderr",
     "output_type": "stream",
     "text": [
      "2022-12-20 16:13:34.472152: I tensorflow/compiler/xla/stream_executor/cuda/cuda_gpu_executor.cc:981] successful NUMA node read from SysFS had negative value (-1), but there must be at least one NUMA node, so returning NUMA node zero\n",
      "2022-12-20 16:13:34.472527: W tensorflow/compiler/xla/stream_executor/platform/default/dso_loader.cc:64] Could not load dynamic library 'libcudart.so.11.0'; dlerror: libcudart.so.11.0: cannot open shared object file: No such file or directory; LD_LIBRARY_PATH: /home/ragu/anaconda3/lib/python3.7/site-packages/cv2/../../lib64:\n",
      "2022-12-20 16:13:34.472634: W tensorflow/compiler/xla/stream_executor/platform/default/dso_loader.cc:64] Could not load dynamic library 'libcublas.so.11'; dlerror: libcublas.so.11: cannot open shared object file: No such file or directory; LD_LIBRARY_PATH: /home/ragu/anaconda3/lib/python3.7/site-packages/cv2/../../lib64:\n",
      "2022-12-20 16:13:34.472707: W tensorflow/compiler/xla/stream_executor/platform/default/dso_loader.cc:64] Could not load dynamic library 'libcublasLt.so.11'; dlerror: libcublasLt.so.11: cannot open shared object file: No such file or directory; LD_LIBRARY_PATH: /home/ragu/anaconda3/lib/python3.7/site-packages/cv2/../../lib64:\n",
      "2022-12-20 16:13:34.472775: W tensorflow/compiler/xla/stream_executor/platform/default/dso_loader.cc:64] Could not load dynamic library 'libcufft.so.10'; dlerror: libcufft.so.10: cannot open shared object file: No such file or directory; LD_LIBRARY_PATH: /home/ragu/anaconda3/lib/python3.7/site-packages/cv2/../../lib64:\n",
      "2022-12-20 16:13:34.472844: W tensorflow/compiler/xla/stream_executor/platform/default/dso_loader.cc:64] Could not load dynamic library 'libcurand.so.10'; dlerror: libcurand.so.10: cannot open shared object file: No such file or directory; LD_LIBRARY_PATH: /home/ragu/anaconda3/lib/python3.7/site-packages/cv2/../../lib64:\n",
      "2022-12-20 16:13:34.472915: W tensorflow/compiler/xla/stream_executor/platform/default/dso_loader.cc:64] Could not load dynamic library 'libcusolver.so.11'; dlerror: libcusolver.so.11: cannot open shared object file: No such file or directory; LD_LIBRARY_PATH: /home/ragu/anaconda3/lib/python3.7/site-packages/cv2/../../lib64:\n",
      "2022-12-20 16:13:34.472983: W tensorflow/compiler/xla/stream_executor/platform/default/dso_loader.cc:64] Could not load dynamic library 'libcusparse.so.11'; dlerror: libcusparse.so.11: cannot open shared object file: No such file or directory; LD_LIBRARY_PATH: /home/ragu/anaconda3/lib/python3.7/site-packages/cv2/../../lib64:\n",
      "2022-12-20 16:13:34.473048: W tensorflow/compiler/xla/stream_executor/platform/default/dso_loader.cc:64] Could not load dynamic library 'libcudnn.so.8'; dlerror: libcudnn.so.8: cannot open shared object file: No such file or directory; LD_LIBRARY_PATH: /home/ragu/anaconda3/lib/python3.7/site-packages/cv2/../../lib64:\n",
      "2022-12-20 16:13:34.473059: W tensorflow/core/common_runtime/gpu/gpu_device.cc:1934] Cannot dlopen some GPU libraries. Please make sure the missing libraries mentioned above are installed properly if you would like to use GPU. Follow the guide at https://www.tensorflow.org/install/gpu for how to download and setup the required libraries for your platform.\n",
      "Skipping registering GPU devices...\n",
      "2022-12-20 16:13:34.473696: I tensorflow/core/platform/cpu_feature_guard.cc:193] This TensorFlow binary is optimized with oneAPI Deep Neural Network Library (oneDNN) to use the following CPU instructions in performance-critical operations:  AVX2 FMA\n",
      "To enable them in other operations, rebuild TensorFlow with the appropriate compiler flags.\n"
     ]
    }
   ],
   "source": [
    "model = tf.keras.Sequential([\n",
    "    tf.keras.layers.Conv2D(64, (3, 3), activation = 'relu', input_shape = (150, 150, 3)), \n",
    "    tf.keras.layers.Conv2D(32, (3, 3), activation = 'relu'),\n",
    "    tf.keras.layers.MaxPooling2D(2,2),\n",
    "    tf.keras.layers.Conv2D(32, (3, 3), activation = 'relu'),\n",
    "    tf.keras.layers.Conv2D(64, (3, 3), activation = 'relu'),\n",
    "    tf.keras.layers.MaxPooling2D(2,2),\n",
    "    tf.keras.layers.Conv2D(32, (3, 3), activation = 'relu'),\n",
    "    tf.keras.layers.MaxPooling2D(2,2),\n",
    "    tf.keras.layers.Flatten(),\n",
    "    tf.keras.layers.Dense(30, activation=tf.nn.softmax)\n",
    "])"
   ]
  },
  {
   "cell_type": "code",
   "execution_count": 8,
   "id": "add8c701",
   "metadata": {
    "id": "add8c701"
   },
   "outputs": [],
   "source": [
    "model.compile(optimizer = 'adam', loss = 'sparse_categorical_crossentropy', metrics=['accuracy'])"
   ]
  },
  {
   "cell_type": "code",
   "execution_count": 9,
   "id": "ac3a11b6",
   "metadata": {
    "id": "ac3a11b6",
    "outputId": "34bcdf90-1da0-4da5-ad11-d36f54024a70"
   },
   "outputs": [
    {
     "name": "stdout",
     "output_type": "stream",
     "text": [
      "Epoch 1/50\n",
      "1/1 [==============================] - 3s 3s/step - loss: 3.3992 - accuracy: 0.0000e+00 - val_loss: 3.0933 - val_accuracy: 0.5000\n",
      "Epoch 2/50\n",
      "1/1 [==============================] - 1s 1s/step - loss: 3.0770 - accuracy: 0.4545 - val_loss: 2.3218 - val_accuracy: 0.5000\n",
      "Epoch 3/50\n",
      "1/1 [==============================] - 1s 1s/step - loss: 2.2831 - accuracy: 0.3636 - val_loss: 1.4836 - val_accuracy: 0.1667\n",
      "Epoch 4/50\n",
      "1/1 [==============================] - 1s 1s/step - loss: 1.4262 - accuracy: 0.3182 - val_loss: 1.4121 - val_accuracy: 0.1667\n",
      "Epoch 5/50\n",
      "1/1 [==============================] - 1s 1s/step - loss: 1.2973 - accuracy: 0.3636 - val_loss: 1.2356 - val_accuracy: 0.5000\n",
      "Epoch 6/50\n",
      "1/1 [==============================] - 1s 1s/step - loss: 1.1691 - accuracy: 0.5000 - val_loss: 1.1928 - val_accuracy: 0.1667\n",
      "Epoch 7/50\n",
      "1/1 [==============================] - 1s 1s/step - loss: 1.1106 - accuracy: 0.3636 - val_loss: 1.2445 - val_accuracy: 0.5000\n",
      "Epoch 8/50\n",
      "1/1 [==============================] - 1s 1s/step - loss: 1.0832 - accuracy: 0.5909 - val_loss: 1.2600 - val_accuracy: 0.6667\n",
      "Epoch 9/50\n",
      "1/1 [==============================] - 1s 1s/step - loss: 1.3724 - accuracy: 0.5000 - val_loss: 1.0165 - val_accuracy: 0.5000\n",
      "Epoch 10/50\n",
      "1/1 [==============================] - 1s 1s/step - loss: 0.7531 - accuracy: 0.5455 - val_loss: 2.0323 - val_accuracy: 0.1667\n",
      "Epoch 11/50\n",
      "1/1 [==============================] - 1s 1s/step - loss: 1.4080 - accuracy: 0.1818 - val_loss: 0.7255 - val_accuracy: 0.8333\n",
      "Epoch 12/50\n",
      "1/1 [==============================] - 1s 1s/step - loss: 0.4569 - accuracy: 0.8636 - val_loss: 0.8487 - val_accuracy: 0.8333\n",
      "Epoch 13/50\n",
      "1/1 [==============================] - 1s 1s/step - loss: 0.7247 - accuracy: 0.8182 - val_loss: 0.9472 - val_accuracy: 0.8333\n",
      "Epoch 14/50\n",
      "1/1 [==============================] - 1s 1s/step - loss: 0.8910 - accuracy: 0.8182 - val_loss: 0.8492 - val_accuracy: 0.8333\n",
      "Epoch 15/50\n",
      "1/1 [==============================] - 1s 1s/step - loss: 0.7201 - accuracy: 0.7727 - val_loss: 0.6562 - val_accuracy: 0.8333\n",
      "Epoch 16/50\n",
      "1/1 [==============================] - 1s 1s/step - loss: 0.4265 - accuracy: 0.8636 - val_loss: 0.6187 - val_accuracy: 0.8333\n",
      "Epoch 17/50\n",
      "1/1 [==============================] - 1s 1s/step - loss: 0.3247 - accuracy: 0.8636 - val_loss: 0.9174 - val_accuracy: 0.6667\n",
      "Epoch 18/50\n",
      "1/1 [==============================] - 1s 1s/step - loss: 0.5318 - accuracy: 0.9091 - val_loss: 0.6274 - val_accuracy: 0.6667\n",
      "Epoch 19/50\n",
      "1/1 [==============================] - 1s 1s/step - loss: 0.3576 - accuracy: 0.9091 - val_loss: 0.3294 - val_accuracy: 0.8333\n",
      "Epoch 20/50\n",
      "1/1 [==============================] - 1s 1s/step - loss: 0.1865 - accuracy: 0.9545 - val_loss: 0.3820 - val_accuracy: 0.8333\n",
      "Epoch 21/50\n",
      "1/1 [==============================] - 1s 1s/step - loss: 0.1948 - accuracy: 1.0000 - val_loss: 0.5144 - val_accuracy: 0.8333\n",
      "Epoch 22/50\n",
      "1/1 [==============================] - 1s 1s/step - loss: 0.2354 - accuracy: 0.9091 - val_loss: 0.4622 - val_accuracy: 0.8333\n",
      "Epoch 23/50\n",
      "1/1 [==============================] - 1s 1s/step - loss: 0.1581 - accuracy: 0.9545 - val_loss: 0.2164 - val_accuracy: 1.0000\n",
      "Epoch 24/50\n",
      "1/1 [==============================] - 1s 1s/step - loss: 0.0533 - accuracy: 1.0000 - val_loss: 0.1481 - val_accuracy: 1.0000\n",
      "Epoch 25/50\n",
      "1/1 [==============================] - 1s 1s/step - loss: 0.0670 - accuracy: 0.9545 - val_loss: 0.1519 - val_accuracy: 1.0000\n",
      "Epoch 26/50\n",
      "1/1 [==============================] - 1s 1s/step - loss: 0.0933 - accuracy: 0.9545 - val_loss: 0.1128 - val_accuracy: 1.0000\n",
      "Epoch 27/50\n",
      "1/1 [==============================] - 1s 1s/step - loss: 0.0519 - accuracy: 0.9545 - val_loss: 0.2160 - val_accuracy: 1.0000\n",
      "Epoch 28/50\n",
      "1/1 [==============================] - 1s 1s/step - loss: 0.0370 - accuracy: 1.0000 - val_loss: 0.3235 - val_accuracy: 0.8333\n",
      "Epoch 29/50\n",
      "1/1 [==============================] - 1s 1s/step - loss: 0.0288 - accuracy: 1.0000 - val_loss: 0.2275 - val_accuracy: 0.8333\n",
      "Epoch 30/50\n",
      "1/1 [==============================] - 1s 1s/step - loss: 0.0081 - accuracy: 1.0000 - val_loss: 0.2014 - val_accuracy: 1.0000\n",
      "Epoch 31/50\n",
      "1/1 [==============================] - 1s 1s/step - loss: 0.0037 - accuracy: 1.0000 - val_loss: 0.4582 - val_accuracy: 0.8333\n",
      "Epoch 32/50\n",
      "1/1 [==============================] - 1s 1s/step - loss: 0.0098 - accuracy: 1.0000 - val_loss: 0.6849 - val_accuracy: 0.8333\n",
      "Epoch 33/50\n",
      "1/1 [==============================] - 1s 1s/step - loss: 0.0220 - accuracy: 1.0000 - val_loss: 0.4217 - val_accuracy: 0.8333\n",
      "Epoch 34/50\n",
      "1/1 [==============================] - 1s 1s/step - loss: 0.0022 - accuracy: 1.0000 - val_loss: 0.2403 - val_accuracy: 0.8333\n",
      "Epoch 35/50\n",
      "1/1 [==============================] - 1s 1s/step - loss: 5.3964e-04 - accuracy: 1.0000 - val_loss: 0.2709 - val_accuracy: 0.8333\n",
      "Epoch 36/50\n",
      "1/1 [==============================] - 1s 1s/step - loss: 6.1455e-04 - accuracy: 1.0000 - val_loss: 0.3879 - val_accuracy: 0.8333\n",
      "Epoch 37/50\n",
      "1/1 [==============================] - 1s 1s/step - loss: 8.5169e-04 - accuracy: 1.0000 - val_loss: 0.4994 - val_accuracy: 0.8333\n",
      "Epoch 38/50\n",
      "1/1 [==============================] - 1s 1s/step - loss: 0.0010 - accuracy: 1.0000 - val_loss: 0.5859 - val_accuracy: 0.8333\n",
      "Epoch 39/50\n",
      "1/1 [==============================] - 1s 1s/step - loss: 0.0011 - accuracy: 1.0000 - val_loss: 0.6504 - val_accuracy: 0.8333\n",
      "Epoch 40/50\n",
      "1/1 [==============================] - 1s 1s/step - loss: 0.0012 - accuracy: 1.0000 - val_loss: 0.6793 - val_accuracy: 0.8333\n",
      "Epoch 41/50\n",
      "1/1 [==============================] - 1s 1s/step - loss: 0.0014 - accuracy: 1.0000 - val_loss: 0.6313 - val_accuracy: 0.6667\n",
      "Epoch 42/50\n",
      "1/1 [==============================] - 1s 1s/step - loss: 0.0012 - accuracy: 1.0000 - val_loss: 0.5008 - val_accuracy: 0.8333\n",
      "Epoch 43/50\n",
      "1/1 [==============================] - 1s 1s/step - loss: 7.0571e-04 - accuracy: 1.0000 - val_loss: 0.3435 - val_accuracy: 0.8333\n",
      "Epoch 44/50\n",
      "1/1 [==============================] - 1s 1s/step - loss: 3.2346e-04 - accuracy: 1.0000 - val_loss: 0.2105 - val_accuracy: 0.8333\n",
      "Epoch 45/50\n",
      "1/1 [==============================] - 1s 1s/step - loss: 1.3479e-04 - accuracy: 1.0000 - val_loss: 0.1210 - val_accuracy: 1.0000\n",
      "Epoch 46/50\n",
      "1/1 [==============================] - 1s 1s/step - loss: 5.7843e-05 - accuracy: 1.0000 - val_loss: 0.0698 - val_accuracy: 1.0000\n",
      "Epoch 47/50\n",
      "1/1 [==============================] - 1s 1s/step - loss: 2.8764e-05 - accuracy: 1.0000 - val_loss: 0.0435 - val_accuracy: 1.0000\n",
      "Epoch 48/50\n",
      "1/1 [==============================] - 1s 1s/step - loss: 1.9029e-05 - accuracy: 1.0000 - val_loss: 0.0306 - val_accuracy: 1.0000\n",
      "Epoch 49/50\n",
      "1/1 [==============================] - 1s 1s/step - loss: 1.7853e-05 - accuracy: 1.0000 - val_loss: 0.0254 - val_accuracy: 1.0000\n",
      "Epoch 50/50\n",
      "1/1 [==============================] - 1s 1s/step - loss: 2.1282e-05 - accuracy: 1.0000 - val_loss: 0.0244 - val_accuracy: 1.0000\n"
     ]
    }
   ],
   "source": [
    "history = model.fit(train_images, train_labels, batch_size=128, epochs = 50, validation_split = 0.2,callbacks=[tensorboard_callback])"
   ]
  },
  {
   "cell_type": "code",
   "execution_count": 10,
   "id": "d015843e",
   "metadata": {
    "id": "d015843e",
    "outputId": "bdc0d61a-5807-4295-e2f7-282d3a27c95d"
   },
   "outputs": [
    {
     "name": "stdout",
     "output_type": "stream",
     "text": [
      "1/1 [==============================] - 0s 59ms/step - loss: 0.0196 - accuracy: 1.0000\n"
     ]
    },
    {
     "data": {
      "text/plain": [
       "[0.019619228318333626, 1.0]"
      ]
     },
     "execution_count": 10,
     "metadata": {},
     "output_type": "execute_result"
    }
   ],
   "source": [
    "model.evaluate(test_images, test_labels)"
   ]
  },
  {
   "cell_type": "code",
   "execution_count": 11,
   "id": "cf7c9f6f",
   "metadata": {},
   "outputs": [],
   "source": [
    "def plot_accuracy_loss(history):\n",
    "    y = ['accuracy','loss']\n",
    "    for x in y:\n",
    "        plt.plot(history.history[x],color='orange', label = x )\n",
    "        plt.plot(history.history['val_'+x], color='lime', label ='val_'+x)\n",
    "        plt.title(\"train_\"+x + \" vs val_\"+x)\n",
    "        plt.ylabel(x)\n",
    "        plt.xlabel(\"epochs\")\n",
    "        plt.legend()\n",
    "        plt.show()"
   ]
  },
  {
   "cell_type": "code",
   "execution_count": 12,
   "id": "0604a789",
   "metadata": {},
   "outputs": [
    {
     "data": {
      "image/png": "[encoded data removed]",
      "text/plain": [
       "<Figure size 640x480 with 1 Axes>"
      ]
     },
     "metadata": {},
     "output_type": "display_data"
    },
    {
     "data": {
      "image/png": "[encoded data removed]",
      "text/plain": [
       "<Figure size 640x480 with 1 Axes>"
      ]
     },
     "metadata": {},
     "output_type": "display_data"
    }
   ],
   "source": [
    "plot_accuracy_loss(history)"
   ]
  },
  {
   "cell_type": "code",
   "execution_count": 13,
   "id": "af37f22d",
   "metadata": {},
   "outputs": [
    {
     "name": "stdout",
     "output_type": "stream",
     "text": [
      "1/1 [==============================] - 0s 123ms/step\n"
     ]
    },
    {
     "ename": "ValueError",
     "evalue": "Shape of passed values is (3, 3), indices imply (4, 4)",
     "output_type": "error",
     "traceback": [
      "\u001b[0;31m---------------------------------------------------------------------------\u001b[0m",
      "\u001b[0;31mValueError\u001b[0m                                Traceback (most recent call last)",
      "\u001b[0;32m/tmp/ipykernel_3882/283284253.py\u001b[0m in \u001b[0;36m<module>\u001b[0;34m\u001b[0m\n\u001b[1;32m     47\u001b[0m \u001b[0mpredictions\u001b[0m \u001b[0;34m=\u001b[0m \u001b[0mnp\u001b[0m\u001b[0;34m.\u001b[0m\u001b[0margmax\u001b[0m\u001b[0;34m(\u001b[0m\u001b[0mmodel\u001b[0m\u001b[0;34m.\u001b[0m\u001b[0mpredict\u001b[0m\u001b[0;34m(\u001b[0m\u001b[0mtest_images\u001b[0m\u001b[0;34m)\u001b[0m\u001b[0;34m,\u001b[0m \u001b[0maxis\u001b[0m \u001b[0;34m=\u001b[0m \u001b[0;36m1\u001b[0m\u001b[0;34m)\u001b[0m\u001b[0;34m\u001b[0m\u001b[0;34m\u001b[0m\u001b[0m\n\u001b[1;32m     48\u001b[0m \u001b[0mactual\u001b[0m \u001b[0;34m=\u001b[0m \u001b[0mtest_labels\u001b[0m\u001b[0;34m\u001b[0m\u001b[0;34m\u001b[0m\u001b[0m\n\u001b[0;32m---> 49\u001b[0;31m \u001b[0mmeasures\u001b[0m\u001b[0;34m(\u001b[0m\u001b[0mactual\u001b[0m\u001b[0;34m,\u001b[0m \u001b[0mpredictions\u001b[0m\u001b[0;34m)\u001b[0m\u001b[0;34m\u001b[0m\u001b[0;34m\u001b[0m\u001b[0m\n\u001b[0m",
      "\u001b[0;32m/tmp/ipykernel_3882/283284253.py\u001b[0m in \u001b[0;36mmeasures\u001b[0;34m(y_actual, y_pred)\u001b[0m\n\u001b[1;32m      1\u001b[0m \u001b[0;32mdef\u001b[0m \u001b[0mmeasures\u001b[0m\u001b[0;34m(\u001b[0m\u001b[0my_actual\u001b[0m\u001b[0;34m,\u001b[0m \u001b[0my_pred\u001b[0m\u001b[0;34m)\u001b[0m\u001b[0;34m:\u001b[0m\u001b[0;34m\u001b[0m\u001b[0;34m\u001b[0m\u001b[0m\n\u001b[1;32m      2\u001b[0m \u001b[0;34m\u001b[0m\u001b[0m\n\u001b[0;32m----> 3\u001b[0;31m     \u001b[0mconfusion_matrix_df\u001b[0m \u001b[0;34m=\u001b[0m \u001b[0mpd\u001b[0m\u001b[0;34m.\u001b[0m\u001b[0mDataFrame\u001b[0m\u001b[0;34m(\u001b[0m\u001b[0mconfusion_matrix\u001b[0m\u001b[0;34m(\u001b[0m\u001b[0mactual\u001b[0m\u001b[0;34m,\u001b[0m\u001b[0mpredictions\u001b[0m\u001b[0;34m)\u001b[0m\u001b[0;34m,\u001b[0m\u001b[0mindex\u001b[0m \u001b[0;34m=\u001b[0m \u001b[0mclass_names\u001b[0m\u001b[0;34m,\u001b[0m \u001b[0mcolumns\u001b[0m \u001b[0;34m=\u001b[0m\u001b[0mclass_names\u001b[0m\u001b[0;34m)\u001b[0m\u001b[0;34m\u001b[0m\u001b[0;34m\u001b[0m\u001b[0m\n\u001b[0m\u001b[1;32m      4\u001b[0m \u001b[0;34m\u001b[0m\u001b[0m\n\u001b[1;32m      5\u001b[0m     \u001b[0mFP\u001b[0m \u001b[0;34m=\u001b[0m \u001b[0mconfusion_matrix_df\u001b[0m\u001b[0;34m.\u001b[0m\u001b[0msum\u001b[0m\u001b[0;34m(\u001b[0m\u001b[0maxis\u001b[0m\u001b[0;34m=\u001b[0m\u001b[0;36m0\u001b[0m\u001b[0;34m)\u001b[0m \u001b[0;34m-\u001b[0m \u001b[0mnp\u001b[0m\u001b[0;34m.\u001b[0m\u001b[0mdiag\u001b[0m\u001b[0;34m(\u001b[0m\u001b[0mconfusion_matrix_df\u001b[0m\u001b[0;34m)\u001b[0m\u001b[0;34m\u001b[0m\u001b[0;34m\u001b[0m\u001b[0m\n",
      "\u001b[0;32m~/anaconda3/lib/python3.7/site-packages/pandas/core/frame.py\u001b[0m in \u001b[0;36m__init__\u001b[0;34m(self, data, index, columns, dtype, copy)\u001b[0m\n\u001b[1;32m    676\u001b[0m                     \u001b[0mdtype\u001b[0m\u001b[0;34m=\u001b[0m\u001b[0mdtype\u001b[0m\u001b[0;34m,\u001b[0m\u001b[0;34m\u001b[0m\u001b[0;34m\u001b[0m\u001b[0m\n\u001b[1;32m    677\u001b[0m                     \u001b[0mcopy\u001b[0m\u001b[0;34m=\u001b[0m\u001b[0mcopy\u001b[0m\u001b[0;34m,\u001b[0m\u001b[0;34m\u001b[0m\u001b[0;34m\u001b[0m\u001b[0m\n\u001b[0;32m--> 678\u001b[0;31m                     \u001b[0mtyp\u001b[0m\u001b[0;34m=\u001b[0m\u001b[0mmanager\u001b[0m\u001b[0;34m,\u001b[0m\u001b[0;34m\u001b[0m\u001b[0;34m\u001b[0m\u001b[0m\n\u001b[0m\u001b[1;32m    679\u001b[0m                 )\n\u001b[1;32m    680\u001b[0m \u001b[0;34m\u001b[0m\u001b[0m\n",
      "\u001b[0;32m~/anaconda3/lib/python3.7/site-packages/pandas/core/internals/construction.py\u001b[0m in \u001b[0;36mndarray_to_mgr\u001b[0;34m(values, index, columns, dtype, copy, typ)\u001b[0m\n\u001b[1;32m    322\u001b[0m     )\n\u001b[1;32m    323\u001b[0m \u001b[0;34m\u001b[0m\u001b[0m\n\u001b[0;32m--> 324\u001b[0;31m     \u001b[0m_check_values_indices_shape_match\u001b[0m\u001b[0;34m(\u001b[0m\u001b[0mvalues\u001b[0m\u001b[0;34m,\u001b[0m \u001b[0mindex\u001b[0m\u001b[0;34m,\u001b[0m \u001b[0mcolumns\u001b[0m\u001b[0;34m)\u001b[0m\u001b[0;34m\u001b[0m\u001b[0;34m\u001b[0m\u001b[0m\n\u001b[0m\u001b[1;32m    325\u001b[0m \u001b[0;34m\u001b[0m\u001b[0m\n\u001b[1;32m    326\u001b[0m     \u001b[0;32mif\u001b[0m \u001b[0mtyp\u001b[0m \u001b[0;34m==\u001b[0m \u001b[0;34m\"array\"\u001b[0m\u001b[0;34m:\u001b[0m\u001b[0;34m\u001b[0m\u001b[0;34m\u001b[0m\u001b[0m\n",
      "\u001b[0;32m~/anaconda3/lib/python3.7/site-packages/pandas/core/internals/construction.py\u001b[0m in \u001b[0;36m_check_values_indices_shape_match\u001b[0;34m(values, index, columns)\u001b[0m\n\u001b[1;32m    391\u001b[0m         \u001b[0mpassed\u001b[0m \u001b[0;34m=\u001b[0m \u001b[0mvalues\u001b[0m\u001b[0;34m.\u001b[0m\u001b[0mshape\u001b[0m\u001b[0;34m\u001b[0m\u001b[0;34m\u001b[0m\u001b[0m\n\u001b[1;32m    392\u001b[0m         \u001b[0mimplied\u001b[0m \u001b[0;34m=\u001b[0m \u001b[0;34m(\u001b[0m\u001b[0mlen\u001b[0m\u001b[0;34m(\u001b[0m\u001b[0mindex\u001b[0m\u001b[0;34m)\u001b[0m\u001b[0;34m,\u001b[0m \u001b[0mlen\u001b[0m\u001b[0;34m(\u001b[0m\u001b[0mcolumns\u001b[0m\u001b[0;34m)\u001b[0m\u001b[0;34m)\u001b[0m\u001b[0;34m\u001b[0m\u001b[0;34m\u001b[0m\u001b[0m\n\u001b[0;32m--> 393\u001b[0;31m         \u001b[0;32mraise\u001b[0m \u001b[0mValueError\u001b[0m\u001b[0;34m(\u001b[0m\u001b[0;34mf\"Shape of passed values is {passed}, indices imply {implied}\"\u001b[0m\u001b[0;34m)\u001b[0m\u001b[0;34m\u001b[0m\u001b[0;34m\u001b[0m\u001b[0m\n\u001b[0m\u001b[1;32m    394\u001b[0m \u001b[0;34m\u001b[0m\u001b[0m\n\u001b[1;32m    395\u001b[0m \u001b[0;34m\u001b[0m\u001b[0m\n",
      "\u001b[0;31mValueError\u001b[0m: Shape of passed values is (3, 3), indices imply (4, 4)"
     ]
    }
   ],
   "source": [
    "def measures(y_actual, y_pred):\n",
    "    \n",
    "    confusion_matrix_df = pd.DataFrame(confusion_matrix(actual,predictions),index = class_names, columns =class_names)\n",
    "\n",
    "    FP = confusion_matrix_df.sum(axis=0) - np.diag(confusion_matrix_df) \n",
    "    FN = confusion_matrix_df.sum(axis=1) - np.diag(confusion_matrix_df)\n",
    "    TP = np.diag(confusion_matrix_df)\n",
    "    TN = confusion_matrix_df.sum() - (FP + FN + TP)\n",
    "    NPV = TN/(TN+FN)\n",
    "    FDR = FP/(TP+FP)\n",
    "    FNR = FP/(FP+TN)\n",
    "    Accuracy = (TP + TN) / (TP + FP + FN + TN)\n",
    "    Error_rate = (FP + FN) / (TP + FP + FN + TN)\n",
    "    Precision = TP / (TP + FP)\n",
    "    Recall = TP / (TP + FN )\n",
    "    F_measure = (2 * Recall * Precision) / (Recall + Precision)\n",
    "    Fall_out = FN/(TP+FN)\n",
    "    Specificity = TN/(TN+FP)\n",
    "    \n",
    "    dict = {}\n",
    "    dict['class_name'] = class_names\n",
    "    dict['TP'] = TP\n",
    "    dict['FP'] = FP\n",
    "    dict['TN'] = TN\n",
    "    dict['FN'] = FN\n",
    "    dict['NPV'] = NPV\n",
    "    dict['FDR'] = FDR\n",
    "    dict['FNR'] = FNR\n",
    "    dict['Accuracy'] = Accuracy\n",
    "    dict['Error_rate'] = Error_rate\n",
    "    dict['Precision'] = Precision\n",
    "    dict['Recall'] = Recall\n",
    "    dict['F_measure'] = F_measure\n",
    "    dict['Fall_out'] = Fall_out\n",
    "    dict['Specificity'] = Specificity\n",
    "    \n",
    "    measures = pd.DataFrame(dict)\n",
    "\n",
    "    plt.figure(figsize=(15,15))\n",
    "    sns.heatmap(confusion_matrix_df, annot=True)\n",
    "    plt.title('Confusion Matrix')\n",
    "    plt.ylabel('Actal Values')\n",
    "    plt.xlabel('Predicted Values')\n",
    "    plt.show()\n",
    "    print(measures)\n",
    "    \n",
    "predictions = np.argmax(model.predict(test_images), axis = 1)\n",
    "actual = test_labels\n",
    "measures(actual, predictions)"
   ]
  },
  {
   "cell_type": "code",
   "execution_count": null,
   "id": "4cf7f973",
   "metadata": {},
   "outputs": [],
   "source": [
    "model.summary()"
   ]
  },
  {
   "cell_type": "code",
   "execution_count": null,
   "id": "92b84fd3",
   "metadata": {},
   "outputs": [],
   "source": [
    "import visualkeras\n",
    "visualkeras.layered_view(model, legend=True) \n"
   ]
  },
  {
   "cell_type": "code",
   "execution_count": null,
   "id": "4d335ade",
   "metadata": {},
   "outputs": [],
   "source": [
    "dot_img_file = 'model.png'\n",
    "tf.keras.utils.plot_model(model, to_file=dot_img_file, show_shapes=True)"
   ]
  },
  {
   "cell_type": "code",
   "execution_count": null,
   "id": "e50ff077",
   "metadata": {},
   "outputs": [],
   "source": [
    "logs_base_dir = \"./logs\"\n",
    "os.makedirs(logs_base_dir, exist_ok=True)\n",
    "%tensorboard --logdir {logs_base_dir}"
   ]
  },
  {
   "cell_type": "code",
   "execution_count": null,
   "id": "cf9e29b6",
   "metadata": {},
   "outputs": [],
   "source": [
    "ann_viz(model, title=\"RRNET8\")"
   ]
  },
  {
   "cell_type": "code",
   "execution_count": null,
   "id": "8f9a2bd3",
   "metadata": {},
   "outputs": [],
   "source": [
    "model_name = 'RRNET8.h5'\n",
    "model.save(model_name)\n",
    "netron.start(model_name, 8081)"
   ]
  },
  {
   "cell_type": "code",
   "execution_count": null,
   "id": "9efdb2a8",
   "metadata": {},
   "outputs": [],
   "source": [
    "for layer in model.layers:\n",
    "    \n",
    "    if 'conv' not in layer.name:\n",
    "        continue    \n",
    "    filters , bias = layer.get_weights()\n",
    "    print(layer.name , filters.shape)"
   ]
  },
  {
   "cell_type": "code",
   "execution_count": null,
   "id": "c9f1c3cf",
   "metadata": {},
   "outputs": [],
   "source": []
  },
  {
   "cell_type": "code",
   "execution_count": null,
   "id": "eb2ed0f9",
   "metadata": {},
   "outputs": [],
   "source": [
    "weights = model.get_layer(\"conv2d\").get_weights()[1]\n",
    "plt.figure(figsize=(15,7))\n",
    "sns.barplot(x=np.arange(len(weights)), y=weights)\n",
    "plt.show()"
   ]
  },
  {
   "cell_type": "code",
   "execution_count": null,
   "id": "cd8c4cb3",
   "metadata": {},
   "outputs": [],
   "source": [
    "bias = model.get_layer(\"dense\").get_weights()[1]\n",
    "plt.figure(figsize=(15,7))\n",
    "sns.barplot(x=np.arange(len(bias)), y=bias)\n",
    "plt.show()"
   ]
  },
  {
   "cell_type": "code",
   "execution_count": null,
   "id": "7b6e3cab",
   "metadata": {},
   "outputs": [],
   "source": [
    "weights = model.get_layer('dense_1').get_weights()[0]\n",
    "sns.distplot(weights)\n",
    "plt.show()"
   ]
  },
  {
   "cell_type": "code",
   "execution_count": null,
   "id": "4969f709",
   "metadata": {},
   "outputs": [],
   "source": [
    "feature_maps = tf.keras.models.Model(model.input, model.get_layer('conv2d').output)\n",
    "feature_maps.summary()"
   ]
  },
  {
   "cell_type": "code",
   "execution_count": null,
   "id": "eff29efd",
   "metadata": {},
   "outputs": [],
   "source": [
    "filters , bias = model.layers[1].get_weights()\n",
    "f_min, f_max = filters.min(), filters.max()\n",
    "filters = (filters - f_min) / (f_max - f_min)\n",
    "n_filters =6\n",
    "ix=1\n",
    "fig = pyplot.figure(figsize=(20,15))\n",
    "for i in range(n_filters):\n",
    "    \n",
    "    f = filters[:,:,:,i]\n",
    "    for j in range(3):\n",
    "       \n",
    "        pyplot.subplot(n_filters,3,ix)\n",
    "        pyplot.imshow(f[:,:,j] ,cmap='gray')\n",
    "        ix+=1\n",
    "\n",
    "pyplot.show()"
   ]
  },
  {
   "cell_type": "code",
   "execution_count": null,
   "id": "37ab5ab6",
   "metadata": {},
   "outputs": [],
   "source": [
    "\n",
    "blocks = [ ] \n",
    "for i in range(len(model.layers)):\n",
    "    layer = model.layers[i]\n",
    "    if 'conv' not in layer.name:\n",
    "        continue    \n",
    "    print(i , layer.name , layer.output.shape)\n",
    "    blocks.append(i)"
   ]
  },
  {
   "cell_type": "code",
   "execution_count": null,
   "id": "c769d546",
   "metadata": {},
   "outputs": [],
   "source": [
    "outputs = [model.layers[i].output for i in blocks]\n",
    "\n",
    "model = tf.keras.models.Model( inputs= model.inputs, outputs = outputs)"
   ]
  },
  {
   "cell_type": "code",
   "execution_count": null,
   "id": "2d5f392f",
   "metadata": {},
   "outputs": [],
   "source": [
    "from keras.applications.vgg16 import VGG16\n",
    "from keras.applications.vgg16 import preprocess_input\n",
    "from tensorflow.keras.utils import load_img\n",
    "from tensorflow.keras.utils import  img_to_array \n",
    "from matplotlib import pyplot\n",
    "from numpy import expand_dims\n",
    "\n",
    "model = VGG16()\n",
    "\n",
    "model = Model(inputs=model.inputs, outputs=model.layers[1].output)\n",
    "model.summary()\n",
    "\n",
    "img = load_img('bird.jpg', target_size=(224, 224))\n",
    "\n",
    "img = img_to_array(img)\n",
    "\n",
    "img = expand_dims(img, axis=0)\n",
    "\n",
    "img = preprocess_input(img)\n",
    "\n",
    "feature_maps = model.predict(img)\n",
    "\n",
    "square = 8\n",
    "ix = 1\n",
    "for _ in range(square):\n",
    "\n",
    " ax = pyplot.subplot(square, square, ix)\n",
    " ax.set_xticks([])\n",
    " ax.set_yticks([])\n",
    "\n",
    " pyplot.imshow(feature_maps[0, :, :, ix-1], cmap='gray')\n",
    " ix += 1\n",
    "\n",
    "pyplot.show()"
   ]
  },
  {
   "cell_type": "code",
   "execution_count": null,
   "id": "e478a739",
   "metadata": {},
   "outputs": [],
   "source": [
    "https://data.world/datasets/dna"
   ]
  }
 ],
 "metadata": {
  "colab": {
   "include_colab_link": true,
   "provenance": []
  },
  "kernelspec": {
   "display_name": "Python 3 (ipykernel)",
   "language": "python",
   "name": "python3"
  },
  "language_info": {
   "codemirror_mode": {
    "name": "ipython",
    "version": 3
   },
   "file_extension": ".py",
   "mimetype": "text/x-python",
   "name": "python",
   "nbconvert_exporter": "python",
   "pygments_lexer": "ipython3",
   "version": "3.7.15"
  }
 },
 "nbformat": 4,
 "nbformat_minor": 5
}
