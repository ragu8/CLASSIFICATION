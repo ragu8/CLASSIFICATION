{
 "cells": [
  {
   "cell_type": "code",
   "execution_count": null,
   "id": "87cefb3b",
   "metadata": {},
   "outputs": [],
   "source": [
    "import tensorflow as tf\n",
    "import CNN_utility\n",
    "import numpy as np\n",
    "import sklearn.model_selection as model_selection\n",
    "from tensorflow.keras.layers import Input, Conv2D, MaxPooling2D, Concatenate, AveragePooling2D, GlobalAveragePooling2D, Dense, Flatten"
   ]
  },
  {
   "cell_type": "code",
   "execution_count": null,
   "id": "1d7d1404",
   "metadata": {},
   "outputs": [],
   "source": [
    "dataset = '/home/ragu/GIT/dataset/plantvillage/temp'\n",
    "images, labels, class_names = CNN_utility.load_data(dataset)"
   ]
  },
  {
   "cell_type": "code",
   "execution_count": null,
   "id": "cb115ad3",
   "metadata": {},
   "outputs": [],
   "source": [
    "images = np.array(images, dtype = 'float32')\n",
    "labels = np.array(labels, dtype = 'int32') "
   ]
  },
  {
   "cell_type": "code",
   "execution_count": null,
   "id": "c6791668",
   "metadata": {},
   "outputs": [],
   "source": [
    "images = images/255.0"
   ]
  },
  {
   "cell_type": "code",
   "execution_count": null,
   "id": "503879a1",
   "metadata": {},
   "outputs": [],
   "source": [
    "train_images, test_images, train_labels, test_labels = model_selection.train_test_split(images, labels, train_size=0.80,test_size=0.20, random_state=101) \n"
   ]
  },
  {
   "cell_type": "code",
   "execution_count": null,
   "id": "695f1d83",
   "metadata": {},
   "outputs": [],
   "source": [
    "\n",
    "print(x)\n",
    "print(inputs)"
   ]
  },
  {
   "cell_type": "code",
   "execution_count": null,
   "id": "a7db35f7",
   "metadata": {},
   "outputs": [],
   "source": [
    "inputs = Input(shape=train_images[1].shape)\n",
    "\n",
    "conv1_1 = Conv2D(64, (1,1), activation='relu', padding='same')(inputs)\n",
    "conv3_3 = Conv2D(64, (3,3), activation='relu', padding='same')(inputs)\n",
    "conv5_5 = Conv2D(64, (5,5), activation='relu', padding='same')(inputs)\n",
    "max_pool = MaxPooling2D((3,3))(inputs)\n",
    "RRnet1 = Concatenate(axis=-1)([conv1_1, conv3_3, conv5_5, max_pool])\n",
    "\n",
    "conv1_1 = Conv2D(64, (1,1), activation='relu')(RRnet1)\n",
    "conv3_3 = Conv2D(64, (3,3), activation='relu')(RRnet1)\n",
    "conv5_5 = Conv2D(64, (5,5), activation='relu')(RRnet1)\n",
    "max_pool = MaxPooling2D((3,3))(inception1)\n",
    "RRnet2 = Concatenate(axis=-1)([conv1_1, conv3_3, conv5_5, max_pool])\n",
    "\n",
    "conv1_1 = Conv2D(64, (1,1), activation='relu')(RRnet2)\n",
    "conv3_3 = Conv2D(64, (3,3), activation='relu')(RRnet2)\n",
    "conv5_5 = Conv2D(64, (5,5), activation='relu')(RRnet2)\n",
    "max_pool = MaxPooling2D((3,3))(inception2)\n",
    "RRnet3 = Concatenate(axis=-1)([conv1_1, conv3_3, conv5_5, max_pool])\n",
    "\n",
    "avg_pool = GlobalAveragePooling2D()(RRnet3)\n",
    "dense = Dense(128, activation='relu')(avg_pool)"
   ]
  },
  {
   "cell_type": "code",
   "execution_count": null,
   "id": "677faa06",
   "metadata": {},
   "outputs": [],
   "source": [
    "model = tf.keras.Sequential([\n",
    "    inputs,\n",
    "    RRnet3,\n",
    "    RRnet2,\n",
    "    RRnet3,\n",
    "    average_pool,\n",
    "    dense\n",
    "])"
   ]
  },
  {
   "cell_type": "code",
   "execution_count": null,
   "id": "87bca583",
   "metadata": {},
   "outputs": [],
   "source": [
    "model.compile(optimizer = 'adam', loss = 'sparse_categorical_crossentropy', metrics=['accuracy'])"
   ]
  },
  {
   "cell_type": "code",
   "execution_count": null,
   "id": "63f892e3",
   "metadata": {},
   "outputs": [],
   "source": [
    "history = model.fit(train_images, train_labels, batch_size=128, epochs = 5, validation_split = 0.2)"
   ]
  },
  {
   "cell_type": "code",
   "execution_count": null,
   "id": "51c1893e",
   "metadata": {},
   "outputs": [],
   "source": [
    "evaluate = model.evaluate(test_images, test_labels)"
   ]
  },
  {
   "cell_type": "code",
   "execution_count": null,
   "id": "47ac8c65",
   "metadata": {},
   "outputs": [],
   "source": [
    "model.summary()"
   ]
  },
  {
   "cell_type": "code",
   "execution_count": null,
   "id": "bb2a1e9d",
   "metadata": {},
   "outputs": [],
   "source": [
    "CNN_utility.model_blocks(model)"
   ]
  },
  {
   "cell_type": "code",
   "execution_count": null,
   "id": "7c0c53a2",
   "metadata": {},
   "outputs": [],
   "source": [
    "CNN_utility.gui_model(model)"
   ]
  },
  {
   "cell_type": "code",
   "execution_count": null,
   "id": "42d3142f",
   "metadata": {},
   "outputs": [],
   "source": [
    "CNN_utility.netron_web(model) "
   ]
  },
  {
   "cell_type": "code",
   "execution_count": null,
   "id": "31714bb2",
   "metadata": {},
   "outputs": [],
   "source": [
    "CNN_utility.filters(model) "
   ]
  },
  {
   "cell_type": "code",
   "execution_count": null,
   "id": "762db376",
   "metadata": {},
   "outputs": [],
   "source": [
    "#CNN_utility.feature_map(model) "
   ]
  },
  {
   "cell_type": "code",
   "execution_count": null,
   "id": "f4d3275c",
   "metadata": {},
   "outputs": [],
   "source": [
    "CNN_utility.dataset_sample(class_names, train_images, train_labels)"
   ]
  },
  {
   "cell_type": "code",
   "execution_count": null,
   "id": "26cb7c74",
   "metadata": {},
   "outputs": [],
   "source": [
    "predictions = np.argmax(model.predict(test_images), axis = 1)\n",
    "actual = test_labels"
   ]
  },
  {
   "cell_type": "code",
   "execution_count": null,
   "id": "5e6e754e",
   "metadata": {},
   "outputs": [],
   "source": [
    "CNN_utility.Performance_Metrics(actual, predictions , class_names)"
   ]
  },
  {
   "cell_type": "code",
   "execution_count": null,
   "id": "d78d14ea",
   "metadata": {},
   "outputs": [],
   "source": [
    "CNN_utility.Confusion_matrix(actual, predictions , class_names)"
   ]
  },
  {
   "cell_type": "code",
   "execution_count": null,
   "id": "d30af82b",
   "metadata": {},
   "outputs": [],
   "source": [
    "CNN_utility.system()"
   ]
  },
  {
   "cell_type": "code",
   "execution_count": null,
   "id": "257a7155",
   "metadata": {},
   "outputs": [],
   "source": [
    "CNN_utility.plot_accuracy_loss(history)"
   ]
  },
  {
   "cell_type": "code",
   "execution_count": null,
   "id": "be0b592b",
   "metadata": {},
   "outputs": [],
   "source": []
  }
 ],
 "metadata": {
  "colab": {
   "include_colab_link": true,
   "provenance": []
  },
  "kernelspec": {
   "display_name": "Python 3",
   "language": "python",
   "name": "python3"
  },
  "language_info": {
   "codemirror_mode": {
    "name": "ipython",
    "version": 3
   },
   "file_extension": ".py",
   "mimetype": "text/x-python",
   "name": "python",
   "nbconvert_exporter": "python",
   "pygments_lexer": "ipython3",
   "version": "3.7.6"
  }
 },
 "nbformat": 4,
 "nbformat_minor": 5
}
