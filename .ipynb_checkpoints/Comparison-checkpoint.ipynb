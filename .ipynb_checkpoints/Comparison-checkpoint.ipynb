{
 "cells": [
  {
   "cell_type": "code",
   "execution_count": 1,
   "id": "af9ae198",
   "metadata": {
    "id": "af9ae198"
   },
   "outputs": [
    {
     "name": "stderr",
     "output_type": "stream",
     "text": [
      "2022-12-16 12:21:48.906060: I tensorflow/core/platform/cpu_feature_guard.cc:193] This TensorFlow binary is optimized with oneAPI Deep Neural Network Library (oneDNN) to use the following CPU instructions in performance-critical operations:  AVX2 FMA\n",
      "To enable them in other operations, rebuild TensorFlow with the appropriate compiler flags.\n",
      "2022-12-16 12:21:49.204934: W tensorflow/compiler/xla/stream_executor/platform/default/dso_loader.cc:64] Could not load dynamic library 'libcudart.so.11.0'; dlerror: libcudart.so.11.0: cannot open shared object file: No such file or directory; LD_LIBRARY_PATH: /home/ragu/anaconda3/lib/python3.7/site-packages/cv2/../../lib64:\n",
      "2022-12-16 12:21:49.204961: I tensorflow/compiler/xla/stream_executor/cuda/cudart_stub.cc:29] Ignore above cudart dlerror if you do not have a GPU set up on your machine.\n",
      "2022-12-16 12:21:50.322592: W tensorflow/compiler/xla/stream_executor/platform/default/dso_loader.cc:64] Could not load dynamic library 'libnvinfer.so.7'; dlerror: libnvinfer.so.7: cannot open shared object file: No such file or directory; LD_LIBRARY_PATH: /home/ragu/anaconda3/lib/python3.7/site-packages/cv2/../../lib64:\n",
      "2022-12-16 12:21:50.322806: W tensorflow/compiler/xla/stream_executor/platform/default/dso_loader.cc:64] Could not load dynamic library 'libnvinfer_plugin.so.7'; dlerror: libnvinfer_plugin.so.7: cannot open shared object file: No such file or directory; LD_LIBRARY_PATH: /home/ragu/anaconda3/lib/python3.7/site-packages/cv2/../../lib64:\n",
      "2022-12-16 12:21:50.322817: W tensorflow/compiler/tf2tensorrt/utils/py_utils.cc:38] TF-TRT Warning: Cannot dlopen some TensorRT libraries. If you would like to use Nvidia GPU with TensorRT, please make sure the missing libraries mentioned above are installed properly.\n",
      "/home/ragu/anaconda3/lib/python3.7/site-packages/keras/optimizers/optimizer_v2/adam.py:117: UserWarning: The `lr` argument is deprecated, use `learning_rate` instead.\n",
      "  super().__init__(name, **kwargs)\n"
     ]
    }
   ],
   "source": [
    "import os          \n",
    "import cv2                                 \n",
    "import numpy as np\n",
    "import pandas as pd\n",
    "import seaborn as sns\n",
    "from tqdm import tqdm\n",
    "import tensorflow as tf\n",
    "from sklearn.metrics import *         \n",
    "import matplotlib.pyplot as plt \n",
    "import sklearn.model_selection as model_selection\n",
    "from keras.optimizers import Adam\n",
    "opt = Adam(lr=0.001)"
   ]
  },
  {
   "cell_type": "code",
   "execution_count": 2,
   "id": "5a494a18",
   "metadata": {
    "id": "5a494a18"
   },
   "outputs": [],
   "source": [
    "def load_data(dataset):\n",
    "    class_names = []\n",
    "    images = []\n",
    "    labels = []  \n",
    "    for folder in os.listdir(dataset):\n",
    "        class_names.append(folder)    \n",
    "    class_names_label = {class_name:i for i, class_name in enumerate(class_names)} \n",
    "    print(\"Loading Dataset {}\".format(dataset))\n",
    "    for folder in os.listdir(dataset):\n",
    "        label = class_names_label[folder]\n",
    "        for file in tqdm(os.listdir(os.path.join(dataset, folder))):\n",
    "            img_path = os.path.join(os.path.join(dataset, folder), file)\n",
    "            image = cv2.imread(img_path)\n",
    "            image = cv2.cvtColor(image, cv2.COLOR_BGR2RGB)\n",
    "            IMAGE_SIZE = (150, 150)\n",
    "            image = cv2.resize(image, IMAGE_SIZE)\n",
    "            images.append(image)\n",
    "            labels.append(label)\n",
    "    return images, labels , class_names"
   ]
  },
  {
   "cell_type": "code",
   "execution_count": 3,
   "id": "05c672c1",
   "metadata": {},
   "outputs": [
    {
     "name": "stdout",
     "output_type": "stream",
     "text": [
      "Loading Dataset /home/ragu/DATASETS/TEMP/\n"
     ]
    },
    {
     "name": "stderr",
     "output_type": "stream",
     "text": [
      "100%|█████████████████████████████████████████████| 9/9 [00:00<00:00, 37.03it/s]\n",
      "100%|█████████████████████████████████████████████| 9/9 [00:00<00:00, 43.46it/s]\n"
     ]
    }
   ],
   "source": [
    "dataset = '/home/ragu/DATASETS/TEMP/'\n",
    "images, labels, class_names = load_data(dataset)"
   ]
  },
  {
   "cell_type": "code",
   "execution_count": 4,
   "id": "658435ff",
   "metadata": {},
   "outputs": [],
   "source": [
    "images = np.array(images, dtype = 'float32')\n",
    "labels = np.array(labels, dtype = 'int32') "
   ]
  },
  {
   "cell_type": "code",
   "execution_count": 5,
   "id": "d9030843",
   "metadata": {},
   "outputs": [],
   "source": [
    "images = images/255.0"
   ]
  },
  {
   "cell_type": "code",
   "execution_count": 6,
   "id": "8eb0fe3c",
   "metadata": {
    "id": "8eb0fe3c"
   },
   "outputs": [],
   "source": [
    "train_images, test_images, train_labels, test_labels = model_selection.train_test_split(images, labels, train_size=0.80,test_size=0.20, random_state=101) "
   ]
  },
  {
   "cell_type": "code",
   "execution_count": 7,
   "id": "d015843e",
   "metadata": {
    "id": "d015843e",
    "outputId": "bdc0d61a-5807-4295-e2f7-282d3a27c95d"
   },
   "outputs": [
    {
     "name": "stderr",
     "output_type": "stream",
     "text": [
      "2022-12-16 12:21:52.395867: I tensorflow/compiler/xla/stream_executor/cuda/cuda_gpu_executor.cc:981] successful NUMA node read from SysFS had negative value (-1), but there must be at least one NUMA node, so returning NUMA node zero\n",
      "2022-12-16 12:21:52.396239: W tensorflow/compiler/xla/stream_executor/platform/default/dso_loader.cc:64] Could not load dynamic library 'libcudart.so.11.0'; dlerror: libcudart.so.11.0: cannot open shared object file: No such file or directory; LD_LIBRARY_PATH: /home/ragu/anaconda3/lib/python3.7/site-packages/cv2/../../lib64:\n",
      "2022-12-16 12:21:52.396464: W tensorflow/compiler/xla/stream_executor/platform/default/dso_loader.cc:64] Could not load dynamic library 'libcublas.so.11'; dlerror: libcublas.so.11: cannot open shared object file: No such file or directory; LD_LIBRARY_PATH: /home/ragu/anaconda3/lib/python3.7/site-packages/cv2/../../lib64:\n",
      "2022-12-16 12:21:52.396650: W tensorflow/compiler/xla/stream_executor/platform/default/dso_loader.cc:64] Could not load dynamic library 'libcublasLt.so.11'; dlerror: libcublasLt.so.11: cannot open shared object file: No such file or directory; LD_LIBRARY_PATH: /home/ragu/anaconda3/lib/python3.7/site-packages/cv2/../../lib64:\n",
      "2022-12-16 12:21:52.396786: W tensorflow/compiler/xla/stream_executor/platform/default/dso_loader.cc:64] Could not load dynamic library 'libcufft.so.10'; dlerror: libcufft.so.10: cannot open shared object file: No such file or directory; LD_LIBRARY_PATH: /home/ragu/anaconda3/lib/python3.7/site-packages/cv2/../../lib64:\n",
      "2022-12-16 12:21:52.396971: W tensorflow/compiler/xla/stream_executor/platform/default/dso_loader.cc:64] Could not load dynamic library 'libcurand.so.10'; dlerror: libcurand.so.10: cannot open shared object file: No such file or directory; LD_LIBRARY_PATH: /home/ragu/anaconda3/lib/python3.7/site-packages/cv2/../../lib64:\n",
      "2022-12-16 12:21:52.397046: W tensorflow/compiler/xla/stream_executor/platform/default/dso_loader.cc:64] Could not load dynamic library 'libcusolver.so.11'; dlerror: libcusolver.so.11: cannot open shared object file: No such file or directory; LD_LIBRARY_PATH: /home/ragu/anaconda3/lib/python3.7/site-packages/cv2/../../lib64:\n",
      "2022-12-16 12:21:52.397176: W tensorflow/compiler/xla/stream_executor/platform/default/dso_loader.cc:64] Could not load dynamic library 'libcusparse.so.11'; dlerror: libcusparse.so.11: cannot open shared object file: No such file or directory; LD_LIBRARY_PATH: /home/ragu/anaconda3/lib/python3.7/site-packages/cv2/../../lib64:\n",
      "2022-12-16 12:21:52.397251: W tensorflow/compiler/xla/stream_executor/platform/default/dso_loader.cc:64] Could not load dynamic library 'libcudnn.so.8'; dlerror: libcudnn.so.8: cannot open shared object file: No such file or directory; LD_LIBRARY_PATH: /home/ragu/anaconda3/lib/python3.7/site-packages/cv2/../../lib64:\n",
      "2022-12-16 12:21:52.397272: W tensorflow/core/common_runtime/gpu/gpu_device.cc:1934] Cannot dlopen some GPU libraries. Please make sure the missing libraries mentioned above are installed properly if you would like to use GPU. Follow the guide at https://www.tensorflow.org/install/gpu for how to download and setup the required libraries for your platform.\n",
      "Skipping registering GPU devices...\n",
      "2022-12-16 12:21:52.397815: I tensorflow/core/platform/cpu_feature_guard.cc:193] This TensorFlow binary is optimized with oneAPI Deep Neural Network Library (oneDNN) to use the following CPU instructions in performance-critical operations:  AVX2 FMA\n",
      "To enable them in other operations, rebuild TensorFlow with the appropriate compiler flags.\n"
     ]
    },
    {
     "name": "stdout",
     "output_type": "stream",
     "text": [
      "Epoch 1/5\n",
      "1/1 [==============================] - 2s 2s/step - loss: 3.4050 - accuracy: 0.0000e+00 - val_loss: 3.0876 - val_accuracy: 0.6667\n",
      "Epoch 2/5\n",
      "1/1 [==============================] - 1s 730ms/step - loss: 3.1053 - accuracy: 0.5455 - val_loss: 2.1286 - val_accuracy: 0.6667\n",
      "Epoch 3/5\n",
      "1/1 [==============================] - 1s 723ms/step - loss: 2.2175 - accuracy: 0.5455 - val_loss: 1.0250 - val_accuracy: 0.6667\n",
      "Epoch 4/5\n",
      "1/1 [==============================] - 1s 721ms/step - loss: 1.1130 - accuracy: 0.5455 - val_loss: 0.6735 - val_accuracy: 0.6667\n",
      "Epoch 5/5\n",
      "1/1 [==============================] - 1s 715ms/step - loss: 0.5678 - accuracy: 0.5455 - val_loss: 2.9021 - val_accuracy: 0.3333\n",
      "1/1 [==============================] - 0s 64ms/step - loss: 1.0341 - accuracy: 0.7500\n"
     ]
    }
   ],
   "source": [
    "RRNET8 = tf.keras.Sequential([\n",
    "    tf.keras.layers.Conv2D(64, (3, 3), activation = 'relu', input_shape = (150, 150, 3)), \n",
    "    tf.keras.layers.Conv2D(64, (3, 3), activation = 'relu'),\n",
    "    tf.keras.layers.MaxPooling2D(2,2),\n",
    "    tf.keras.layers.Conv2D(64, (3, 3), activation = 'relu'),\n",
    "    tf.keras.layers.MaxPooling2D(2,2),\n",
    "    tf.keras.layers.Conv2D(64, (3, 3), activation = 'relu'),\n",
    "    tf.keras.layers.MaxPooling2D(2,2),\n",
    "    tf.keras.layers.Conv2D(64, (3, 3), activation = 'relu'),\n",
    "    tf.keras.layers.MaxPooling2D(2,2),\n",
    "    tf.keras.layers.Flatten(),\n",
    "    tf.keras.layers.Dense(128, activation=tf.nn.relu),\n",
    "    tf.keras.layers.Dense(30, activation=tf.nn.softmax)\n",
    "])\n",
    "\n",
    "RRNET8.compile(optimizer = 'adam', loss = 'sparse_categorical_crossentropy', metrics=['accuracy'])\n",
    "\n",
    "history_RRNET8 = RRNET8.fit(train_images, train_labels, batch_size=128, epochs = 5, validation_split = 0.2)\n",
    "\n",
    "RRNET8_evaluate = RRNET8.evaluate(test_images, test_labels)"
   ]
  },
  {
   "cell_type": "code",
   "execution_count": null,
   "id": "790c7a40",
   "metadata": {},
   "outputs": [],
   "source": []
  },
  {
   "cell_type": "code",
   "execution_count": 8,
   "id": "a784e67d",
   "metadata": {},
   "outputs": [
    {
     "name": "stdout",
     "output_type": "stream",
     "text": [
      "Epoch 1/5\n",
      "1/1 [==============================] - 1s 1s/step - loss: 4.0882 - accuracy: 0.1818 - val_loss: 1.3058 - val_accuracy: 0.6667\n",
      "Epoch 2/5\n",
      "1/1 [==============================] - 0s 250ms/step - loss: 26.5324 - accuracy: 0.5455 - val_loss: 3.5583 - val_accuracy: 0.6667\n",
      "Epoch 3/5\n",
      "1/1 [==============================] - 0s 251ms/step - loss: 1.3582e-04 - accuracy: 1.0000 - val_loss: 6.0513 - val_accuracy: 0.6667\n",
      "Epoch 4/5\n",
      "1/1 [==============================] - 0s 247ms/step - loss: 15.4374 - accuracy: 0.4545 - val_loss: 20.5380 - val_accuracy: 0.6667\n",
      "Epoch 5/5\n",
      "1/1 [==============================] - 0s 247ms/step - loss: 1.0837e-08 - accuracy: 1.0000 - val_loss: 44.8720 - val_accuracy: 0.6667\n",
      "1/1 [==============================] - 0s 35ms/step - loss: 86.9705 - accuracy: 0.2500\n"
     ]
    }
   ],
   "source": [
    "AlexNet = tf.keras.Sequential()\n",
    "AlexNet.add(tf.keras.layers.Conv2D(filters=96, kernel_size=(11, 11), \n",
    "                        strides=(4, 4), activation=\"relu\", \n",
    "                        input_shape=(150, 150, 3)))\n",
    "AlexNet.add(tf.keras.layers.BatchNormalization())\n",
    "AlexNet.add(tf.keras.layers.MaxPool2D(pool_size=(3, 3), strides= (2, 2)))\n",
    "AlexNet.add(tf.keras.layers.Conv2D(filters=256, kernel_size=(5, 5), \n",
    "                        strides=(1, 1), activation=\"relu\", \n",
    "                        padding=\"same\"))\n",
    "AlexNet.add(tf.keras.layers.BatchNormalization())\n",
    "AlexNet.add(tf.keras.layers.MaxPool2D(pool_size=(3, 3), strides=(2, 2)))\n",
    "AlexNet.add(tf.keras.layers.Conv2D(filters=384, kernel_size=(3, 3), \n",
    "                        strides=(1, 1), activation=\"relu\", \n",
    "                        padding=\"same\"))\n",
    "AlexNet.add(tf.keras.layers.BatchNormalization())\n",
    "AlexNet.add(tf.keras.layers.Conv2D(filters=384, kernel_size=(3, 3), \n",
    "                        strides=(1, 1), activation=\"relu\", \n",
    "                        padding=\"same\"))\n",
    "AlexNet.add(tf.keras.layers.BatchNormalization())\n",
    "AlexNet.add(tf.keras.layers.Conv2D(filters=256, kernel_size=(3, 3), \n",
    "                        strides=(1, 1), activation=\"relu\", \n",
    "                        padding=\"same\"))\n",
    "AlexNet.add(tf.keras.layers.BatchNormalization())\n",
    "AlexNet.add(tf.keras.layers.MaxPool2D(pool_size=(3, 3), strides=(2, 2)))\n",
    "AlexNet.add(tf.keras.layers.Flatten())\n",
    "AlexNet.add(tf.keras.layers.Dense(4096, activation=\"relu\"))\n",
    "AlexNet.add(tf.keras.layers.Dropout(0.5))\n",
    "AlexNet.add(tf.keras.layers.Dense(10, activation=\"softmax\"))\n",
    "\n",
    "AlexNet.compile(loss='sparse_categorical_crossentropy', optimizer= opt,  metrics=['accuracy'])\n",
    "\n",
    "history_AlexNet = AlexNet.fit(train_images, train_labels, batch_size=128, epochs = 5, validation_split = 0.2)\n",
    "\n",
    "AlexNet_evaluate = AlexNet.evaluate(test_images, test_labels)"
   ]
  },
  {
   "cell_type": "code",
   "execution_count": null,
   "id": "304de921",
   "metadata": {},
   "outputs": [],
   "source": []
  },
  {
   "cell_type": "code",
   "execution_count": 51,
   "id": "c557e215",
   "metadata": {},
   "outputs": [],
   "source": [
    "from tensorflow.keras.regularizers import l2\n",
    "from tensorflow.keras import activations\n",
    "from tensorflow.keras.models import Model\n",
    "def res_identity(x, filters):\n",
    "    x_skip = x \n",
    "    f1, f2 = filters\n",
    "    x = tf.keras.layers.Conv2D(f1, kernel_size=(1, 1), strides=(1, 1), padding='valid', kernel_regularizer=l2(0.001))(x)\n",
    "    x = tf.keras.layers.BatchNormalization()(x)\n",
    "    x = tf.keras.layers.Activation(activations.relu)(x)\n",
    "    x = tf.keras.layers.Conv2D(f1, kernel_size=(3, 3), strides=(1, 1), padding='same', kernel_regularizer=l2(0.001))(x)\n",
    "    x = tf.keras.layers.BatchNormalization()(x)\n",
    "    x = tf.keras.layers.Activation(activations.relu)(x)\n",
    "    x = tf.keras.layers.Conv2D(f2, kernel_size=(1, 1), strides=(1, 1), padding='valid', kernel_regularizer=l2(0.001))(x)\n",
    "    x = tf.keras.layers.BatchNormalization()(x)\n",
    "    x = tf.keras.layers.Add()([x, x_skip])\n",
    "    x = tf.keras.layers.Activation(activations.relu)(x)\n",
    "    \n",
    "    return x\n",
    "\n",
    "def res_conv(x, s, filters):\n",
    "    x_skip = x\n",
    "    f1, f2 = filters\n",
    "    x = tf.keras.layers.Conv2D(f1, kernel_size=(1, 1), strides=(s, s), padding='valid', kernel_regularizer=l2(0.001))(x)\n",
    "    x = tf.keras.layers.BatchNormalization()(x)\n",
    "    x = tf.keras.layers.Activation(activations.relu)(x)\n",
    "    x = tf.keras.layers.Conv2D(f1, kernel_size=(3, 3), strides=(1, 1), padding='same', kernel_regularizer=l2(0.001))(x)\n",
    "    x = tf.keras.layers.BatchNormalization()(x)\n",
    "    x = tf.keras.layers.Activation(activations.relu)(x)\n",
    "    x = tf.keras.layers.Conv2D(f2, kernel_size=(1, 1), strides=(1, 1), padding='valid', kernel_regularizer=l2(0.001))(x)\n",
    "    x = tf.keras.layers.BatchNormalization()(x)\n",
    "    x_skip = tf.keras.layers.Conv2D(f2, kernel_size=(1, 1), strides=(s, s), padding='valid', kernel_regularizer=l2(0.001))(x_skip)\n",
    "    x_skip = tf.keras.layers.BatchNormalization()(x_skip)\n",
    "    x = tf.keras.layers.Add()([x, x_skip])\n",
    "    x = tf.keras.layers.Activation(activations.relu)(x)\n",
    "    \n",
    "    return x\n",
    "\n",
    "def resnet50():\n",
    "    input_im = tf.keras.layers.Input(shape=(images.shape[1], images.shape[2], images.shape[3]))\n",
    "    x = tf.keras.layers.ZeroPadding2D(padding=(3, 3))(input_im)\n",
    "    x = tf.keras.layers.Conv2D(64, kernel_size=(7, 7), strides=(2, 2))(x)\n",
    "    x = tf.keras.layers.BatchNormalization()(x)\n",
    "    x = tf.keras.layers.Activation(activations.relu)(x)\n",
    "    x = tf.keras.layers.MaxPooling2D((3, 3), strides=(2, 2))(x)\n",
    "    x = res_conv(x, s=1, filters=(64, 256))\n",
    "    x = res_identity(x, filters=(64, 256))\n",
    "    x = res_identity(x, filters=(64, 256))\n",
    "    x = res_conv(x, s=2, filters=(128, 512))\n",
    "    x = res_identity(x, filters=(128, 512))\n",
    "    x = res_identity(x, filters=(128, 512))\n",
    "    x = res_identity(x, filters=(128, 512))\n",
    "    x = res_conv(x, s=2, filters=(256, 1024))\n",
    "    x = res_identity(x, filters=(256, 1024))\n",
    "    x = res_identity(x, filters=(256, 1024))\n",
    "    x = res_identity(x, filters=(256, 1024))\n",
    "    x = res_identity(x, filters=(256, 1024))\n",
    "    x = res_identity(x, filters=(256, 1024))\n",
    "    x = res_conv(x, s=2, filters=(512, 2048))\n",
    "    x = res_identity(x, filters=(512, 2048))\n",
    "    x = res_identity(x, filters=(512, 2048))\n",
    "    x = tf.keras.layers.AveragePooling2D((2, 2), padding='same')(x)\n",
    "    x = tf.keras.layers.Flatten()(x)\n",
    "    x = tf.keras.layers.Dense(len(class_names), activation='softmax', kernel_initializer='he_normal')(x)\n",
    "    model = Model(inputs=input_im, outputs=x, name='Resnet50')\n",
    "\n",
    "    return model\n",
    "\n",
    "Resnet50 = resnet50()\n",
    "\n",
    "Resnet50.compile(loss='categorical_crossentropy', optimizer=Adam(learning_rate=1e-3), metrics=['acc'])\n",
    "\n",
    "history_Resnet50 = Resnet50.fit(train_images, train_labels, batch_size=128, epochs = 5, validation_split = 0.2)\n",
    "\n",
    "Resnet50_evaluate = Resnet50.evaluate(test_images, test_labels)"
   ]
  },
  {
   "cell_type": "code",
   "execution_count": null,
   "id": "d0053387",
   "metadata": {},
   "outputs": [],
   "source": []
  },
  {
   "cell_type": "code",
   "execution_count": null,
   "id": "69998035",
   "metadata": {},
   "outputs": [],
   "source": []
  },
  {
   "cell_type": "code",
   "execution_count": null,
   "id": "f15cdf2c",
   "metadata": {},
   "outputs": [],
   "source": [
    "RRNET8 = history_RRNET8.history\n",
    "AlexNet = history_AlexNet.history\n",
    "\n",
    "comparison = pd.DataFrame()\n",
    "\n",
    "comparison['RRNET8_accuracy']  = RRNET8['accuracy']\n",
    "comparison['RRNET8_val_accuracy'] = RRNET8['val_accuracy']\n",
    "comparison['RRNET8_loss']  = RRNET8['loss']\n",
    "comparison['RRNET8_val_loss'] = RRNET8['val_loss']\n",
    "\n",
    "comparison['AlexNet_accuracy']  = AlexNet['accuracy']\n",
    "comparison['AlexNet_val_accuracy'] = AlexNet['val_accuracy']\n",
    "comparison['AlexNet_loss']  = AlexNet['loss']\n",
    "comparison['AlexNet_val_loss'] = AlexNet['val_loss']\n",
    "\n",
    "comparison"
   ]
  },
  {
   "cell_type": "code",
   "execution_count": 10,
   "id": "bac5f8be",
   "metadata": {},
   "outputs": [],
   "source": [
    "def plot_accuracy():\n",
    "    plt.plot(comparison['RRNET8_accuracy'],'b--',label = 'RRNET8_accuracy')\n",
    "    plt.plot(comparison['RRNET8_val_accuracy'],'r--',label = 'RRNET8_val_accuracy')\n",
    "    \n",
    "    plt.plot(comparison['AlexNet_accuracy'],'g--',label = 'AlexNet_accuracy')\n",
    "    plt.plot(comparison['AlexNet_val_accuracy'],'y--',label = 'AlexNet_val_accuracy')\n",
    "    \n",
    "    plt.legend()\n",
    "    plt.title('RRNET8_accuracy Vs AlexNet_accuracy')\n",
    "    plt.show()"
   ]
  },
  {
   "cell_type": "code",
   "execution_count": 11,
   "id": "c10aca27",
   "metadata": {},
   "outputs": [
    {
     "data": {
      "image/png": "[encoded data removed]",
      "text/plain": [
       "<Figure size 640x480 with 1 Axes>"
      ]
     },
     "metadata": {},
     "output_type": "display_data"
    }
   ],
   "source": [
    "plot_accuracy()"
   ]
  },
  {
   "cell_type": "code",
   "execution_count": null,
   "id": "e0ba01fa",
   "metadata": {},
   "outputs": [],
   "source": []
  },
  {
   "cell_type": "code",
   "execution_count": null,
   "id": "7c9f62e7",
   "metadata": {},
   "outputs": [],
   "source": []
  },
  {
   "cell_type": "code",
   "execution_count": null,
   "id": "63387a17",
   "metadata": {},
   "outputs": [],
   "source": []
  },
  {
   "cell_type": "code",
   "execution_count": null,
   "id": "e204c405",
   "metadata": {},
   "outputs": [],
   "source": []
  },
  {
   "cell_type": "code",
   "execution_count": 13,
   "id": "17e84653",
   "metadata": {},
   "outputs": [
    {
     "data": {
      "image/png": "[encoded data removed]",
      "text/plain": [
       "<Figure size 640x480 with 1 Axes>"
      ]
     },
     "metadata": {},
     "output_type": "display_data"
    }
   ],
   "source": [
    "accuracy =[RRNET8_evaluate[1],AlexNet_evaluate[1]]\n",
    "lable = [\"RRNET8\", \"AlexNet\"]\n",
    "barlist = plt.bar(lable,accuracy)\n",
    "barlist[0].set_color('b')\n",
    "barlist[1].set_color('r')\n",
    "plt.title(\"RRNET8 Vs AlexNet\")\n",
    "plt.show()"
   ]
  },
  {
   "cell_type": "code",
   "execution_count": null,
   "id": "e90a443e",
   "metadata": {},
   "outputs": [],
   "source": []
  }
 ],
 "metadata": {
  "colab": {
   "include_colab_link": true,
   "provenance": []
  },
  "kernelspec": {
   "display_name": "Python 3 (ipykernel)",
   "language": "python",
   "name": "python3"
  },
  "language_info": {
   "codemirror_mode": {
    "name": "ipython",
    "version": 3
   },
   "file_extension": ".py",
   "mimetype": "text/x-python",
   "name": "python",
   "nbconvert_exporter": "python",
   "pygments_lexer": "ipython3",
   "version": "3.7.15"
  }
 },
 "nbformat": 4,
 "nbformat_minor": 5
}
