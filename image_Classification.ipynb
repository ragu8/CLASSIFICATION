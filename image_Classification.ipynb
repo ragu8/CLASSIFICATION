{
 "cells": [
  {
   "cell_type": "code",
   "execution_count": 19,
   "id": "af9ae198",
   "metadata": {
    "id": "af9ae198"
   },
   "outputs": [],
   "source": [
    "import os          \n",
    "import cv2                                 \n",
    "import numpy as np\n",
    "import pandas as pd\n",
    "import seaborn as sns\n",
    "from tqdm import tqdm\n",
    "import tensorflow as tf\n",
    "from sklearn.metrics import *         \n",
    "import matplotlib.pyplot as plt \n",
    "import sklearn.model_selection as model_selection"
   ]
  },
  {
   "cell_type": "code",
   "execution_count": 20,
   "id": "5a494a18",
   "metadata": {
    "id": "5a494a18"
   },
   "outputs": [
    {
     "name": "stdout",
     "output_type": "stream",
     "text": [
      "Loading Dataset ../dataset/eyes\n"
     ]
    },
    {
     "name": "stderr",
     "output_type": "stream",
     "text": [
      "100%|██████████████████████████████████████| 174/174 [00:00<00:00, 1032.21it/s]\n",
      "100%|████████████████████████████████████████| 47/47 [00:00<00:00, 1560.08it/s]\n",
      "100%|████████████████████████████████████████| 82/82 [00:00<00:00, 1209.91it/s]\n",
      "100%|████████████████████████████████████████| 30/30 [00:00<00:00, 1159.39it/s]\n",
      "100%|████████████████████████████████████████| 50/50 [00:00<00:00, 1010.39it/s]\n"
     ]
    }
   ],
   "source": [
    "dataset = '../dataset/eyes'\n",
    "class_names = []\n",
    "for folder in os.listdir(dataset):\n",
    "    class_names.append(folder)\n",
    "    \n",
    "class_names_label = {class_name:i for i, class_name in enumerate(class_names)} \n",
    "\n",
    "images = []\n",
    "labels = []  \n",
    "print(\"Loading Dataset {}\".format(dataset))\n",
    "for folder in os.listdir(dataset):\n",
    "    label = class_names_label[folder]\n",
    "    for file in tqdm(os.listdir(os.path.join(dataset, folder))):\n",
    "        img_path = os.path.join(os.path.join(dataset, folder), file)\n",
    "        image = cv2.imread(img_path)\n",
    "        image = cv2.cvtColor(image, cv2.COLOR_BGR2RGB)\n",
    "        IMAGE_SIZE = (150, 150)\n",
    "        image = cv2.resize(image, IMAGE_SIZE)\n",
    "        images.append(image)\n",
    "        labels.append(label)\n",
    "               \n",
    "images = np.array(images, dtype = 'float32')\n",
    "images = images/255.0\n",
    "labels = np.array(labels, dtype = 'int32')  \n",
    "    "
   ]
  },
  {
   "cell_type": "code",
   "execution_count": 21,
   "id": "8eb0fe3c",
   "metadata": {
    "id": "8eb0fe3c"
   },
   "outputs": [],
   "source": [
    "train_images, test_images, train_labels, test_labels = model_selection.train_test_split(images, labels, train_size=0.80,test_size=0.20, random_state=101) "
   ]
  },
  {
   "cell_type": "code",
   "execution_count": 22,
   "id": "d79291a4",
   "metadata": {
    "id": "d79291a4",
    "outputId": "e35a7c47-4bbc-490e-e3a6-b35365bb80ec"
   },
   "outputs": [],
   "source": [
    "model = tf.keras.Sequential([\n",
    "    tf.keras.layers.Conv2D(32, (3, 3), activation = 'relu', input_shape = (150, 150, 3)), \n",
    "    tf.keras.layers.MaxPooling2D(2,2),\n",
    "    tf.keras.layers.Conv2D(32, (3, 3), activation = 'relu'),\n",
    "    tf.keras.layers.MaxPooling2D(2,2),\n",
    "    tf.keras.layers.Flatten(),\n",
    "    tf.keras.layers.Dense(128, activation=tf.nn.relu),\n",
    "    tf.keras.layers.Dense(30, activation=tf.nn.softmax)\n",
    "])"
   ]
  },
  {
   "cell_type": "code",
   "execution_count": 23,
   "id": "add8c701",
   "metadata": {
    "id": "add8c701"
   },
   "outputs": [],
   "source": [
    "model.compile(optimizer = 'adam', loss = 'sparse_categorical_crossentropy', metrics=['accuracy'])"
   ]
  },
  {
   "cell_type": "code",
   "execution_count": 31,
   "id": "ac3a11b6",
   "metadata": {
    "id": "ac3a11b6",
    "outputId": "34bcdf90-1da0-4da5-ad11-d36f54024a70"
   },
   "outputs": [
    {
     "name": "stdout",
     "output_type": "stream",
     "text": [
      "Epoch 1/15\n",
      "2/2 [==============================] - 3s 1s/step - loss: 1.4168 - accuracy: 0.5000 - val_loss: 1.6856 - val_accuracy: 0.4355\n",
      "Epoch 2/15\n",
      "2/2 [==============================] - 2s 1s/step - loss: 1.3046 - accuracy: 0.5123 - val_loss: 1.6566 - val_accuracy: 0.4355\n",
      "Epoch 3/15\n",
      "2/2 [==============================] - 2s 1s/step - loss: 1.1176 - accuracy: 0.5287 - val_loss: 1.5169 - val_accuracy: 0.4355\n",
      "Epoch 4/15\n",
      "2/2 [==============================] - 2s 1s/step - loss: 0.9993 - accuracy: 0.5451 - val_loss: 1.4978 - val_accuracy: 0.4355\n",
      "Epoch 5/15\n",
      "2/2 [==============================] - 2s 1s/step - loss: 0.8810 - accuracy: 0.6967 - val_loss: 1.7243 - val_accuracy: 0.4516\n",
      "Epoch 6/15\n",
      "2/2 [==============================] - 2s 1s/step - loss: 0.8272 - accuracy: 0.6434 - val_loss: 1.5444 - val_accuracy: 0.4355\n",
      "Epoch 7/15\n",
      "2/2 [==============================] - 2s 1s/step - loss: 0.7091 - accuracy: 0.8156 - val_loss: 1.7540 - val_accuracy: 0.4677\n",
      "Epoch 8/15\n",
      "2/2 [==============================] - 2s 1s/step - loss: 0.6202 - accuracy: 0.7787 - val_loss: 1.7597 - val_accuracy: 0.4355\n",
      "Epoch 9/15\n",
      "2/2 [==============================] - 2s 1s/step - loss: 0.5183 - accuracy: 0.8648 - val_loss: 1.6746 - val_accuracy: 0.4839\n",
      "Epoch 10/15\n",
      "2/2 [==============================] - 2s 1s/step - loss: 0.4438 - accuracy: 0.8730 - val_loss: 1.6361 - val_accuracy: 0.4516\n",
      "Epoch 11/15\n",
      "2/2 [==============================] - 2s 1s/step - loss: 0.3873 - accuracy: 0.9180 - val_loss: 1.8201 - val_accuracy: 0.4032\n",
      "Epoch 12/15\n",
      "2/2 [==============================] - 2s 1s/step - loss: 0.2968 - accuracy: 0.9385 - val_loss: 1.8673 - val_accuracy: 0.5161\n",
      "Epoch 13/15\n",
      "2/2 [==============================] - 2s 1s/step - loss: 0.2467 - accuracy: 0.9467 - val_loss: 1.9281 - val_accuracy: 0.4677\n",
      "Epoch 14/15\n",
      "2/2 [==============================] - 2s 1s/step - loss: 0.2055 - accuracy: 0.9795 - val_loss: 1.9643 - val_accuracy: 0.4516\n",
      "Epoch 15/15\n",
      "2/2 [==============================] - 2s 1s/step - loss: 0.1559 - accuracy: 0.9836 - val_loss: 2.0823 - val_accuracy: 0.5645\n"
     ]
    }
   ],
   "source": [
    "history = model.fit(train_images, train_labels, batch_size=128, epochs=15, validation_split = 0.2)"
   ]
  },
  {
   "cell_type": "code",
   "execution_count": 32,
   "id": "d2890a1a",
   "metadata": {
    "id": "d2890a1a"
   },
   "outputs": [],
   "source": [
    "def plot_accuracy_loss(history):\n",
    "    fig = plt.figure(figsize=(10,5))\n",
    "\n",
    "    # Plot accuracy\n",
    "    plt.subplot(221)\n",
    "    plt.plot(history.history['accuracy'],'bo--', label = \"accuracy\")\n",
    "    plt.plot(history.history['val_accuracy'], 'ro--', label = \"val_accuracy\")\n",
    "    plt.title(\"train_acc vs val_acc\")\n",
    "    plt.ylabel(\"accuracy\")\n",
    "    plt.xlabel(\"epochs\")\n",
    "    plt.legend()\n",
    "\n",
    "    # Plot loss function\n",
    "    plt.subplot(222)\n",
    "    plt.plot(history.history['loss'],'bo--', label = \"loss\")\n",
    "    plt.plot(history.history['val_loss'], 'ro--', label = \"val_loss\")\n",
    "    plt.title(\"train_loss vs val_loss\")\n",
    "    plt.ylabel(\"loss\")\n",
    "    plt.xlabel(\"epochs\")\n",
    "\n",
    "    plt.legend()\n",
    "    plt.show()"
   ]
  },
  {
   "cell_type": "code",
   "execution_count": 33,
   "id": "889e0f49",
   "metadata": {
    "id": "889e0f49",
    "outputId": "33dbc4e9-8b28-42db-95d4-d7919731d729"
   },
   "outputs": [
    {
     "data": {
      "image/png": "[encoded data removed]",
      "text/plain": [
       "<Figure size 720x360 with 2 Axes>"
      ]
     },
     "metadata": {
      "needs_background": "light"
     },
     "output_type": "display_data"
    }
   ],
   "source": [
    "plot_accuracy_loss(history)"
   ]
  },
  {
   "cell_type": "code",
   "execution_count": 34,
   "id": "d015843e",
   "metadata": {
    "id": "d015843e",
    "outputId": "bdc0d61a-5807-4295-e2f7-282d3a27c95d"
   },
   "outputs": [
    {
     "name": "stdout",
     "output_type": "stream",
     "text": [
      "3/3 [==============================] - 0s 61ms/step - loss: 1.5314 - accuracy: 0.5584\n"
     ]
    }
   ],
   "source": [
    "test_loss = model.evaluate(test_images, test_labels)"
   ]
  },
  {
   "cell_type": "code",
   "execution_count": 35,
   "id": "2ea40239",
   "metadata": {
    "id": "2ea40239",
    "outputId": "9b6581d4-5364-44dc-b9df-cf84277d1204"
   },
   "outputs": [],
   "source": [
    "predictions = np.argmax(model.predict(test_images), axis = 1)\n",
    "actual = test_labels"
   ]
  },
  {
   "cell_type": "code",
   "execution_count": 36,
   "id": "a710b8ee",
   "metadata": {},
   "outputs": [],
   "source": [
    "confusion_matrix_df = pd.DataFrame(confusion_matrix(actual,predictions),index = class_names, columns =class_names)"
   ]
  },
  {
   "cell_type": "code",
   "execution_count": 37,
   "id": "d266825d",
   "metadata": {},
   "outputs": [
    {
     "data": {
      "image/png": "[encoded data removed]",
      "text/plain": [
       "<Figure size 1080x1080 with 2 Axes>"
      ]
     },
     "metadata": {
      "needs_background": "light"
     },
     "output_type": "display_data"
    }
   ],
   "source": [
    "plt.figure(figsize=(15,15))\n",
    "sns.heatmap(confusion_matrix_df, annot=True)\n",
    "plt.title('Confusion Matrix')\n",
    "plt.ylabel('Actal Values')\n",
    "plt.xlabel('Predicted Values')\n",
    "plt.show()"
   ]
  },
  {
   "cell_type": "code",
   "execution_count": null,
   "id": "9af5b175",
   "metadata": {},
   "outputs": [],
   "source": []
  }
 ],
 "metadata": {
  "colab": {
   "include_colab_link": true,
   "provenance": []
  },
  "kernelspec": {
   "display_name": "Python 3 (ipykernel)",
   "language": "python",
   "name": "python3"
  },
  "language_info": {
   "codemirror_mode": {
    "name": "ipython",
    "version": 3
   },
   "file_extension": ".py",
   "mimetype": "text/x-python",
   "name": "python",
   "nbconvert_exporter": "python",
   "pygments_lexer": "ipython3",
   "version": "3.9.7"
  }
 },
 "nbformat": 4,
 "nbformat_minor": 5
}
