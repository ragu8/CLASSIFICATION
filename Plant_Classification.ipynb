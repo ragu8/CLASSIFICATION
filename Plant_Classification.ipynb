{
 "cells": [
  {
   "cell_type": "code",
   "execution_count": null,
   "id": "e520947e",
   "metadata": {
    "id": "e520947e"
   },
   "outputs": [],
   "source": [
    "import os          \n",
    "import cv2                                 \n",
    "import numpy as np\n",
    "import pandas as pd\n",
    "import seaborn as sns\n",
    "from tqdm import tqdm\n",
    "import tensorflow as tf\n",
    "from sklearn.metrics import *         \n",
    "import matplotlib.pyplot as plt \n",
    "from tkinter.filedialog import askopenfilename\n",
    "import sklearn.model_selection as model_selection"
   ]
  },
  {
   "cell_type": "code",
   "execution_count": null,
   "id": "af9ae198",
   "metadata": {
    "id": "af9ae198"
   },
   "outputs": [],
   "source": [
    "df = pd.read_csv('class_names.csv')\n",
    "class_names = df[\"class_names\"].tolist()\n",
    "class_names_label = {class_name:i for i, class_name in enumerate(class_names)}\n",
    "nb_classes = len(class_names)\n",
    "IMAGE_SIZE = (150, 150)"
   ]
  },
  {
   "cell_type": "code",
   "execution_count": null,
   "id": "5a494a18",
   "metadata": {
    "id": "5a494a18"
   },
   "outputs": [],
   "source": [
    "dataset = '../dataset/pc'\n",
    "images = []\n",
    "labels = []\n",
    "        \n",
    "print(\"Loading Dataset {}\".format(dataset))\n",
    "\n",
    "for folder in os.listdir(dataset):\n",
    "    label = class_names_label[folder]\n",
    "    for file in tqdm(os.listdir(os.path.join(dataset, folder))):\n",
    "        img_path = os.path.join(os.path.join(dataset, folder), file)\n",
    "        image = cv2.imread(img_path)\n",
    "        image = cv2.cvtColor(image, cv2.COLOR_BGR2RGB)\n",
    "        image = cv2.resize(image, IMAGE_SIZE)\n",
    "        images.append(image)\n",
    "        labels.append(label)\n",
    "                \n",
    "images = np.array(images, dtype = 'float32')\n",
    "images = images/255.0\n",
    "labels = np.array(labels, dtype = 'int32')   "
   ]
  },
  {
   "cell_type": "code",
   "execution_count": null,
   "id": "8eb0fe3c",
   "metadata": {
    "id": "8eb0fe3c"
   },
   "outputs": [],
   "source": [
    "train_images, test_images, train_labels, test_labels = model_selection.train_test_split(images, labels, train_size=0.80,test_size=0.20, random_state=101) "
   ]
  },
  {
   "cell_type": "code",
   "execution_count": null,
   "id": "d79291a4",
   "metadata": {
    "id": "d79291a4",
    "outputId": "e35a7c47-4bbc-490e-e3a6-b35365bb80ec"
   },
   "outputs": [],
   "source": [
    "model = tf.keras.Sequential([\n",
    "    tf.keras.layers.Conv2D(32, (3, 3), activation = 'relu', input_shape = (150, 150, 3)), \n",
    "    tf.keras.layers.MaxPooling2D(2,2),\n",
    "    tf.keras.layers.Conv2D(32, (3, 3), activation = 'relu'),\n",
    "    tf.keras.layers.MaxPooling2D(2,2),\n",
    "    tf.keras.layers.Flatten(),\n",
    "    tf.keras.layers.Dense(128, activation=tf.nn.relu),\n",
    "    tf.keras.layers.Dense(30, activation=tf.nn.softmax)\n",
    "])"
   ]
  },
  {
   "cell_type": "code",
   "execution_count": null,
   "id": "add8c701",
   "metadata": {
    "id": "add8c701"
   },
   "outputs": [],
   "source": [
    "model.compile(optimizer = 'adam', loss = 'sparse_categorical_crossentropy', metrics=['accuracy'])"
   ]
  },
  {
   "cell_type": "code",
   "execution_count": null,
   "id": "ac3a11b6",
   "metadata": {
    "id": "ac3a11b6",
    "outputId": "34bcdf90-1da0-4da5-ad11-d36f54024a70"
   },
   "outputs": [],
   "source": [
    "history = model.fit(train_images, train_labels, batch_size=128, epochs=15, validation_split = 0.2)"
   ]
  },
  {
   "cell_type": "code",
   "execution_count": null,
   "id": "d2890a1a",
   "metadata": {
    "id": "d2890a1a"
   },
   "outputs": [],
   "source": [
    "def plot_accuracy_loss(history):\n",
    "    fig = plt.figure(figsize=(10,5))\n",
    "\n",
    "    # Plot accuracy\n",
    "    plt.subplot(221)\n",
    "    plt.plot(history.history['accuracy'],'bo--', label = \"accuracy\")\n",
    "    plt.plot(history.history['val_accuracy'], 'ro--', label = \"val_accuracy\")\n",
    "    plt.title(\"train_acc vs val_acc\")\n",
    "    plt.ylabel(\"accuracy\")\n",
    "    plt.xlabel(\"epochs\")\n",
    "    plt.legend()\n",
    "\n",
    "    # Plot loss function\n",
    "    plt.subplot(222)\n",
    "    plt.plot(history.history['loss'],'bo--', label = \"loss\")\n",
    "    plt.plot(history.history['val_loss'], 'ro--', label = \"val_loss\")\n",
    "    plt.title(\"train_loss vs val_loss\")\n",
    "    plt.ylabel(\"loss\")\n",
    "    plt.xlabel(\"epochs\")\n",
    "\n",
    "    plt.legend()\n",
    "    plt.show()"
   ]
  },
  {
   "cell_type": "code",
   "execution_count": null,
   "id": "889e0f49",
   "metadata": {
    "id": "889e0f49",
    "outputId": "33dbc4e9-8b28-42db-95d4-d7919731d729"
   },
   "outputs": [],
   "source": [
    "plot_accuracy_loss(history)"
   ]
  },
  {
   "cell_type": "code",
   "execution_count": null,
   "id": "d015843e",
   "metadata": {
    "id": "d015843e",
    "outputId": "bdc0d61a-5807-4295-e2f7-282d3a27c95d"
   },
   "outputs": [],
   "source": [
    "test_loss = model.evaluate(test_images, test_labels)"
   ]
  },
  {
   "cell_type": "code",
   "execution_count": null,
   "id": "e671ec39",
   "metadata": {
    "id": "e671ec39"
   },
   "outputs": [],
   "source": [
    "def display_random_image(class_names, dimages, dlabels):\n",
    "    index = np.random.randint(dimages.shape[0])\n",
    "    plt.figure()\n",
    "    plt.imshow(dimages[index])\n",
    "    plt.xticks([])\n",
    "    plt.yticks([])\n",
    "    plt.grid(False)\n",
    "    plt.title('Image #{} : '.format(index) + class_names[dlabels[index]])\n",
    "    plt.show()"
   ]
  },
  {
   "cell_type": "code",
   "execution_count": null,
   "id": "2ea40239",
   "metadata": {
    "id": "2ea40239",
    "outputId": "9b6581d4-5364-44dc-b9df-cf84277d1204"
   },
   "outputs": [],
   "source": [
    "predictions = np.argmax(model.predict(test_images), axis = 1)\n",
    "actual = test_labels\n",
    "display_random_image(class_names, actual , predictions)"
   ]
  },
  {
   "cell_type": "code",
   "execution_count": null,
   "id": "16f6f844",
   "metadata": {},
   "outputs": [],
   "source": [
    "def Test(pimage):\n",
    "    data = np.ndarray(shape=(1, 150, 150, 3), dtype=np.float32)\n",
    "    IMAGE_SIZE = (150, 150)\n",
    "    pimage = cv2.cvtColor(pimage, cv2.COLOR_BGR2RGB)\n",
    "    pimage = cv2.resize(pimage, IMAGE_SIZE) \n",
    "    normalized_image_array = np.array(pimage, dtype = 'float32')\n",
    "    data[0] = normalized_image_array\n",
    "    prediction = model.predict(data)\n",
    "    pred_label = np.argmax(prediction, axis = 1) \n",
    "    class_prediction = class_names[pred_label[0]]\n",
    "    plt.xticks([])\n",
    "    plt.yticks([])\n",
    "    plt.grid(False)\n",
    "    plt.imshow(pimage, cmap=plt.cm.binary)\n",
    "    plt.xlabel(class_prediction)\n",
    "    plt.show()\n",
    "    if class_prediction == 'Arive-Dantu':\n",
    "        print('Arive-Dantu: Also known as Amarnath, this plant can be used as a food to eat when on diet or looking forweight loss as it is rich in fiber, extremely low in calories, have traces of fats and absolutely no cholestrol. It is used to help cure ulcers, diarrhea, swelling of mouth or throat and high cholesterol. It also has chemicals that act antioxidants.')\n",
    "\n",
    "    if class_prediction == 'Basale':\n",
    "        print('Basale: Basale has an anti-inflammatory activity and wound healing ability. It can be helpful as a first aid, and the leaves of this plant can be crushed and applied to burns, scalds and wounds to help in healing of the wounds.')\n",
    "\n",
    "    if class_prediction == 'Betel':\n",
    "        print('Betel: The leaves of Betel possess immense therapeutic potential, and are often used in helping to cure mood swings and even depression. They are also quite an effective way to improve digestive health as they effectively neutralise pH imbalances in the stomach. The leaves are also full of many anti-microbial agents that combat the bacteria in your mouth.')\n",
    "\n",
    "    if class_prediction == 'Crape_Jasmine':\n",
    "        print('Crape Jasmine: Jasmine is used in the curing of liver diseases, such as hepatits, and in abdominal pain caused due to intense diarrhea, or dysentery. The smell of Jasmine flowers can be used to improve mood, reduce stress levels, and also to reduce food cravings. Jasmine can also be used to help in fighting skin diseases and speed up the process of wound healing.')\n",
    "\n",
    "    if class_prediction == 'Curry':\n",
    "        print('Curry: Curry leaves have immense nutritional value with low calories, and they help you fight nutritional deficiency of Vitamin A, Vitamin B, Vitamin C, Vitamin B2, calcium and iron. It aids in digestion and helps in the treatment of morning sickness, nausea, and diarrhea. The leaves of this plant have properties that help in lowering blood cholesterol levels. It can also be used to promote hair growth and decrease the side effects of chemotherapy and radiotherapy')\n",
    "\n",
    "    if class_prediction == 'Drumstick':\n",
    "        print('Drumstick: Drumstick contains high amounts of Vitamin C and antioxidants, which help you to build up your immune system and fight against common infections such as common cold and flu. Bioactive compounds in this plant help to relieve you from thickening of the arteries and lessens the chance of developing high blood pressure. An due to a high amount of calcium, Drumstick helps in developing strong and healthy bones.')\n",
    "\n",
    "    if class_prediction == 'Fenugreek':\n",
    "        print('Fenugreek: Commonly known as Methi in Indian households, Fenugreek is a plant with many medical abilities. It is said that Fenugreek can aid in metabolic condition such as diabetes and in regulating the blood sugar. Fenugreek has also been found to be as effective as antacid medications for heartburn. Due to its high nutritional value and less calories, it is also a food item to help prevent obesity.')\n",
    "\n",
    "    if class_prediction == 'Guava':\n",
    "        print('Guava: Aside from bearing a delicious taste, the fruit of the Guava tree is a rich source of Vitamin C and antioxidants. It is especially effective against preventing infections such as Gastrointestinal infections, Respiratory infections, Oral/dental infections and Skin infections. It can also aid in the treatment of Hypertension, Fever, Pain, Liver and Kidney problems. ')\n",
    "\n",
    "    if class_prediction == 'Hibiscus':\n",
    "        print('Hibiscus: The tea of the hibiscus flowers are quite prevalent and are used mainly to lower blood pressure and prevent Hypertension. It is also used to relieve dry coughs. Some studies suggest that the tea has an effect in relieving from fever, diabetes, gallbladder attacks and even cancer. The roots of this plant can also be used to prepare a tonic.')\n",
    "\n",
    "    if class_prediction == 'Indian_Beech':\n",
    "        print('Indian Beech: Popularly known as Karanja in India, the Indian Beech is a medicinal herb used mainly for skin disorders. Karanja  oil is applied to the skin to manage boils, rashes and eczema as well as heal wounds as it has antimicrobial properties. The oil can also be useful in arthritis due to it’s anti-inflammatory activities.')\n",
    "\n",
    "    if class_prediction == 'Indian_Mustard':\n",
    "        print('Mustard: Mustard and its oil is widely used for the relief of joint pain, swelling, fever, coughs and colds. The mustard oil can be used as a massage oil, skin serum and for hair treatment. The oil can also be consumed, and as it is high in monounsaturated fatty acids, Mustard oil turns out to be a healthy choice for your heart. ')\n",
    "\n",
    "    if class_prediction == 'Jackfruit':\n",
    "        print('Jackfruit: Jackfruits are full with Carotenoids, the yellow pigments that give jackfruit it’s characteristic colour. is high in Vitamin A, which helps in preventing heart diseases and eye problems such as cataracts and macular degeneration and provides you with an excellent eyesight.')\n",
    "\n",
    "    if class_prediction == 'Jamaica_Cherry-Gasagase':\n",
    "        print('Jamaican Cherry: The Jamaican Cherry plant have Anti-Diabetic properties which can potential cure type 2 diabetes. Jamaican Cherry tea contains rich amounts of nitric oxide, which relaxes blood vessels, reducing the chance of hypertension. Other than that, it can help to relieve paint, prevent infections, boost immunity and promote digestive health.')\n",
    "\n",
    "    if class_prediction == 'Jamun':\n",
    "        print('Jamun: The fruit extract of the Jamun plant is used in treating the common cold, cough and flu. The bark of this tree contain components like tannins and carbohydrates that can be used to fight dysentery. Jamun juice is used for treating sore throat problems and is also effective in the enlargement of the spleen')\n",
    "\n",
    "    if class_prediction == 'Jasmine':\n",
    "        print('Jasmine: Jasmine is used in the curing of liver diseases, such as hepatits, and in abdominal pain caused due to intense diarrhea, or dysentery. The smell of Jasmine flowers can be used to improve mood, reduce stress levels, and also to reduce food cravings. Jasmine can also be used to help in fighting skin diseases and speed up the process of wound healing.')\n",
    "\n",
    "    if class_prediction == 'Karanda':\n",
    "        print('Karanda: Karanda is especially used in treating problems regarding digestion. It is used to cure worm infestation, gastritis, dermatitis, splenomegaly and indigestion. It is also useful for respiratory infections such as cough, cold, asthama, and even tuberculosis.')\n",
    "\n",
    "    if class_prediction == 'Lemon':\n",
    "        print('Lemon: Lemons are an excellent source of Vitamin C and fiber, and therefore, it lowers the risk factors leading to heart diseases. Lemons are also known to prevent Kidney Stones as they have Citric acid that helps in preventing Kidney Stones. Lemon, with Vitamin C and citric acid helps in the absorption of iron.')\n",
    "\n",
    "    if class_prediction == 'Mango':\n",
    "        print('Mango: Known as King of Fruits by many, Mango is also packed with many medicinal properties. Mangoes have various Vitamins, such as Vitamin C, K, A, and minerals such as Potassium and Magnesium. Mangoes are also rich in anitoxidants, which can reduce the chances of Cancer. Mangoes are also known to promote digestive health and heart health too.')\n",
    "\n",
    "    if class_prediction == 'Mexican_Mint':\n",
    "        print('Mexican Mint: Mexican Mint is a traditional remedy used to treat a variety of conditions. The leaves are a major part used for medicinal purposes. Mexican mint helpsin curing respiratory illness, such as cold, sore throat, congestions, runny nose, and also help in natural skincare.')\n",
    "\n",
    "    if class_prediction == 'Mint':\n",
    "        print('Mint: Mint is used usually in our daily lives to keep bad mouth odour at bay, but besides that, this plant also help in a variety of other functions such as relieving Indigestion, and upset stomach, and can also improve Irritable Bowel Syndrome (IBS). Mint is also full of nutrients such as Vitamin A, Iron, Manganese, Folate and Fiber.')\n",
    "\n",
    "    if class_prediction == 'Neem':\n",
    "        print('Neem: Prevalent in traditional remedies from a long time, Neem is considered as a boon for Mankind. It helps to cure many skin diseases such as Acne, fungal infections, dandruff, leprosy, and also nourishes and detoxifies the skin. It also boosts your immunity and act as an Insect and Mosquito Repellent. It helps to reduce joint paint as well and prevents Gastrointestinal Diseases')\n",
    "\n",
    "    if class_prediction == 'Oleander':\n",
    "        print('Oleander: The use of this plant should be done extremely carefully, and never without the supervision of a doctor, as it can be a deadly poison. Despite the danger, oleander seeds and leaves are used to make medicine. Oleander is used for heart conditions, asthma, epilepsy, cancer, leprosy, malaria, ringworm, indigestion, and venereal disease.')\n",
    "\n",
    "    if class_prediction == 'Parijata':\n",
    "        print('Parijata: Parijata plant is used for varying purposes. It shows anti-inflammatory and antipyretic (fever-reducing) properties which help in managing pain and fever. It is also used as a laxative, in rheumatism, skin ailments, and as a sedative. It is also said to provide relief from the symptoms of cough and cold. Drinking fresh Parijat leaves juice with honey helps to reduce the symptoms of fever.')\n",
    "\n",
    "    if class_prediction == 'Peepal':\n",
    "        print('Peepal: The bark of the Peeple tree, rich in vitamin K, is an effective complexion corrector and preserver. It also helps in various ailments such as Strengthening blood capillaries, minimising inflammation, Healing skin bruises faster, increasing skin resilience, treating pigmentation issues, wrinkles, dark circles, lightening surgery marks, scars, and stretch marks.')\n",
    "\n",
    "    if class_prediction == 'Pomegranate':\n",
    "        print('Pomegranate: Pomegranate has a variety of medical benefits. It is rich in antioxidants, which reduce inflation, protect cells from damage and eventually lower the chances of Cancer. It is also a great source of Vitamin C and an immunity booster. Pomegranate has also shown to stall the progress of Alzheimer disease and protect memory.')\n",
    "\n",
    "    if class_prediction == 'Rasna':\n",
    "        print('Rasna: The Rasna plant or its oil helps to reduce bone and joint pain and reduce the symptoms of rheumatioid arthritis. It can also be used to cure cough and cold, release mucus in the respiratory system and clear them, eventually facilitates easy breathing. Rasna can also be applied to wounds to aid them in healing.')\n",
    "\n",
    "    if class_prediction == 'Rose_apple':\n",
    "        print('Rose apple: Rose apple’s seed and leaves are used for treating asthma and fever. Rose apples improve brain health and increase cognitive abilities. They are also effective against epilepsy, smallpox, and inflammation in joints. They contain active and volatile compounds that have been connected with having anti-microbial and anti-fungal effects. ')\n",
    "\n",
    "    if class_prediction == 'Roxburgh_fig':\n",
    "        print('Roxburgh fig: Roxburgh fig is noted for its big and round leaves. Leaves are crushed and the paste is applied on the wounds. They are also used in diarrhea and dysentery.')\n",
    "\n",
    "    if class_prediction == 'Sandalwood':\n",
    "        print('Sandalwood: Sandalwood is used for treating the common cold, cough, bronchitis, fever, and sore mouth and throat. It is also used to treat urinary tract infections (UTIs), liver disease, gallbladder problems, heatstroke, gonorrhea, headache, and conditions of the heart and blood vessels (cardiovascular disease).')\n",
    "\n",
    "    if class_prediction == 'Tulsi':\n",
    "        print('Tulsi: Tulsi plant has the potential to cure a lot of ailments, and is used a lot in traditional remedies. Tulsi can help cure fever, to treat skin problems like acne, blackheads and premature ageing, to treat insect bites. Tulsi is also used to treat heart disease and fever, and respiratory problems.')\n",
    "        "
   ]
  },
  {
   "cell_type": "code",
   "execution_count": null,
   "id": "f0a7e5e8",
   "metadata": {},
   "outputs": [],
   "source": [
    "sample_image = cv2.imread(askopenfilename())\n",
    "Test(sample_image)"
   ]
  },
  {
   "cell_type": "code",
   "execution_count": null,
   "id": "a710b8ee",
   "metadata": {},
   "outputs": [],
   "source": [
    "confusion_matrix_df = pd.DataFrame(confusion_matrix(actual,predictions),index = class_names, columns =class_names)"
   ]
  },
  {
   "cell_type": "code",
   "execution_count": null,
   "id": "d266825d",
   "metadata": {},
   "outputs": [],
   "source": [
    "plt.figure(figsize=(15,15))\n",
    "sns.heatmap(confusion_matrix_df, annot=True)\n",
    "plt.title('Confusion Matrix')\n",
    "plt.ylabel('Actal Values')\n",
    "plt.xlabel('Predicted Values')\n",
    "plt.show()"
   ]
  },
  {
   "cell_type": "code",
   "execution_count": null,
   "id": "b8041e11",
   "metadata": {},
   "outputs": [],
   "source": []
  }
 ],
 "metadata": {
  "colab": {
   "include_colab_link": true,
   "provenance": []
  },
  "kernelspec": {
   "display_name": "Python 3 (ipykernel)",
   "language": "python",
   "name": "python3"
  },
  "language_info": {
   "codemirror_mode": {
    "name": "ipython",
    "version": 3
   },
   "file_extension": ".py",
   "mimetype": "text/x-python",
   "name": "python",
   "nbconvert_exporter": "python",
   "pygments_lexer": "ipython3",
   "version": "3.9.7"
  }
 },
 "nbformat": 4,
 "nbformat_minor": 5
}
